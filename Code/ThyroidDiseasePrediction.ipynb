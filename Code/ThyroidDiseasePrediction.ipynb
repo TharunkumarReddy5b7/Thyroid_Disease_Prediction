{
  "cells": [
    {
      "cell_type": "markdown",
      "metadata": {
        "id": "458f2400"
      },
      "source": [
        "# Importing Necessary Libraries"
      ],
      "id": "458f2400"
    },
    {
      "cell_type": "code",
      "execution_count": null,
      "metadata": {
        "id": "ccad9faf"
      },
      "outputs": [],
      "source": [
        "import numpy as np\n",
        "import pandas as pd\n",
        "import matplotlib.pyplot as plt\n",
        "from sklearn.model_selection import train_test_split\n",
        "from sklearn.metrics import accuracy_score\n",
        "from sklearn.metrics import precision_score\n",
        "from sklearn.metrics import confusion_matrix\n",
        "from sklearn.neighbors import KNeighborsClassifier\n",
        "\n",
        "from sklearn.svm import SVC\n",
        "from sklearn.ensemble import RandomForestClassifier"
      ],
      "id": "ccad9faf"
    },
    {
      "cell_type": "markdown",
      "metadata": {
        "id": "2c33a6ef"
      },
      "source": [
        "# Data collection"
      ],
      "id": "2c33a6ef"
    },
    {
      "cell_type": "code",
      "execution_count": null,
      "metadata": {
        "id": "c697d943"
      },
      "outputs": [],
      "source": [
        "df = pd.read_csv('thyroid_dataset.csv')\n"
      ],
      "id": "c697d943"
    },
    {
      "cell_type": "code",
      "execution_count": null,
      "metadata": {
        "colab": {
          "base_uri": "https://localhost:8080/",
          "height": 334
        },
        "id": "236633f4",
        "scrolled": true,
        "outputId": "4fd7942c-4aae-4ebb-d114-667edf9fd95f"
      },
      "outputs": [
        {
          "output_type": "execute_result",
          "data": {
            "text/plain": [
              "  age gender on thyroxine query on thyroxine on antithyroid medication sick  \\\n",
              "0  41      F            f                  f                         f    f   \n",
              "1  23      F            f                  f                         f    f   \n",
              "2  46      M            f                  f                         f    f   \n",
              "3  70      F            t                  f                         f    f   \n",
              "4  70      F            f                  f                         f    f   \n",
              "\n",
              "  pregnant thyroid surgery I131 treatment query hypothyroid  ... TT4 measured  \\\n",
              "0        f               f              f                 f  ...            t   \n",
              "1        f               f              f                 f  ...            t   \n",
              "2        f               f              f                 f  ...            t   \n",
              "3        f               f              f                 f  ...            t   \n",
              "4        f               f              f                 f  ...            t   \n",
              "\n",
              "   TT4 T4U measured   T4U FTI measured  FTI TBG measured TBG referral source  \\\n",
              "0  125            t  1.14            t  109            f   ?            SVHC   \n",
              "1  102            f     ?            f    ?            f   ?           other   \n",
              "2  109            t  0.91            t  120            f   ?           other   \n",
              "3  175            f     ?            f    ?            f   ?           other   \n",
              "4   61            t  0.87            t   70            f   ?             SVI   \n",
              "\n",
              "  binaryClass  \n",
              "0           P  \n",
              "1           P  \n",
              "2           P  \n",
              "3           P  \n",
              "4           P  \n",
              "\n",
              "[5 rows x 30 columns]"
            ],
            "text/html": [
              "\n",
              "  <div id=\"df-895799d7-2cc3-4d4c-b12b-722ae77ba953\">\n",
              "    <div class=\"colab-df-container\">\n",
              "      <div>\n",
              "<style scoped>\n",
              "    .dataframe tbody tr th:only-of-type {\n",
              "        vertical-align: middle;\n",
              "    }\n",
              "\n",
              "    .dataframe tbody tr th {\n",
              "        vertical-align: top;\n",
              "    }\n",
              "\n",
              "    .dataframe thead th {\n",
              "        text-align: right;\n",
              "    }\n",
              "</style>\n",
              "<table border=\"1\" class=\"dataframe\">\n",
              "  <thead>\n",
              "    <tr style=\"text-align: right;\">\n",
              "      <th></th>\n",
              "      <th>age</th>\n",
              "      <th>gender</th>\n",
              "      <th>on thyroxine</th>\n",
              "      <th>query on thyroxine</th>\n",
              "      <th>on antithyroid medication</th>\n",
              "      <th>sick</th>\n",
              "      <th>pregnant</th>\n",
              "      <th>thyroid surgery</th>\n",
              "      <th>I131 treatment</th>\n",
              "      <th>query hypothyroid</th>\n",
              "      <th>...</th>\n",
              "      <th>TT4 measured</th>\n",
              "      <th>TT4</th>\n",
              "      <th>T4U measured</th>\n",
              "      <th>T4U</th>\n",
              "      <th>FTI measured</th>\n",
              "      <th>FTI</th>\n",
              "      <th>TBG measured</th>\n",
              "      <th>TBG</th>\n",
              "      <th>referral source</th>\n",
              "      <th>binaryClass</th>\n",
              "    </tr>\n",
              "  </thead>\n",
              "  <tbody>\n",
              "    <tr>\n",
              "      <th>0</th>\n",
              "      <td>41</td>\n",
              "      <td>F</td>\n",
              "      <td>f</td>\n",
              "      <td>f</td>\n",
              "      <td>f</td>\n",
              "      <td>f</td>\n",
              "      <td>f</td>\n",
              "      <td>f</td>\n",
              "      <td>f</td>\n",
              "      <td>f</td>\n",
              "      <td>...</td>\n",
              "      <td>t</td>\n",
              "      <td>125</td>\n",
              "      <td>t</td>\n",
              "      <td>1.14</td>\n",
              "      <td>t</td>\n",
              "      <td>109</td>\n",
              "      <td>f</td>\n",
              "      <td>?</td>\n",
              "      <td>SVHC</td>\n",
              "      <td>P</td>\n",
              "    </tr>\n",
              "    <tr>\n",
              "      <th>1</th>\n",
              "      <td>23</td>\n",
              "      <td>F</td>\n",
              "      <td>f</td>\n",
              "      <td>f</td>\n",
              "      <td>f</td>\n",
              "      <td>f</td>\n",
              "      <td>f</td>\n",
              "      <td>f</td>\n",
              "      <td>f</td>\n",
              "      <td>f</td>\n",
              "      <td>...</td>\n",
              "      <td>t</td>\n",
              "      <td>102</td>\n",
              "      <td>f</td>\n",
              "      <td>?</td>\n",
              "      <td>f</td>\n",
              "      <td>?</td>\n",
              "      <td>f</td>\n",
              "      <td>?</td>\n",
              "      <td>other</td>\n",
              "      <td>P</td>\n",
              "    </tr>\n",
              "    <tr>\n",
              "      <th>2</th>\n",
              "      <td>46</td>\n",
              "      <td>M</td>\n",
              "      <td>f</td>\n",
              "      <td>f</td>\n",
              "      <td>f</td>\n",
              "      <td>f</td>\n",
              "      <td>f</td>\n",
              "      <td>f</td>\n",
              "      <td>f</td>\n",
              "      <td>f</td>\n",
              "      <td>...</td>\n",
              "      <td>t</td>\n",
              "      <td>109</td>\n",
              "      <td>t</td>\n",
              "      <td>0.91</td>\n",
              "      <td>t</td>\n",
              "      <td>120</td>\n",
              "      <td>f</td>\n",
              "      <td>?</td>\n",
              "      <td>other</td>\n",
              "      <td>P</td>\n",
              "    </tr>\n",
              "    <tr>\n",
              "      <th>3</th>\n",
              "      <td>70</td>\n",
              "      <td>F</td>\n",
              "      <td>t</td>\n",
              "      <td>f</td>\n",
              "      <td>f</td>\n",
              "      <td>f</td>\n",
              "      <td>f</td>\n",
              "      <td>f</td>\n",
              "      <td>f</td>\n",
              "      <td>f</td>\n",
              "      <td>...</td>\n",
              "      <td>t</td>\n",
              "      <td>175</td>\n",
              "      <td>f</td>\n",
              "      <td>?</td>\n",
              "      <td>f</td>\n",
              "      <td>?</td>\n",
              "      <td>f</td>\n",
              "      <td>?</td>\n",
              "      <td>other</td>\n",
              "      <td>P</td>\n",
              "    </tr>\n",
              "    <tr>\n",
              "      <th>4</th>\n",
              "      <td>70</td>\n",
              "      <td>F</td>\n",
              "      <td>f</td>\n",
              "      <td>f</td>\n",
              "      <td>f</td>\n",
              "      <td>f</td>\n",
              "      <td>f</td>\n",
              "      <td>f</td>\n",
              "      <td>f</td>\n",
              "      <td>f</td>\n",
              "      <td>...</td>\n",
              "      <td>t</td>\n",
              "      <td>61</td>\n",
              "      <td>t</td>\n",
              "      <td>0.87</td>\n",
              "      <td>t</td>\n",
              "      <td>70</td>\n",
              "      <td>f</td>\n",
              "      <td>?</td>\n",
              "      <td>SVI</td>\n",
              "      <td>P</td>\n",
              "    </tr>\n",
              "  </tbody>\n",
              "</table>\n",
              "<p>5 rows × 30 columns</p>\n",
              "</div>\n",
              "      <button class=\"colab-df-convert\" onclick=\"convertToInteractive('df-895799d7-2cc3-4d4c-b12b-722ae77ba953')\"\n",
              "              title=\"Convert this dataframe to an interactive table.\"\n",
              "              style=\"display:none;\">\n",
              "        \n",
              "  <svg xmlns=\"http://www.w3.org/2000/svg\" height=\"24px\"viewBox=\"0 0 24 24\"\n",
              "       width=\"24px\">\n",
              "    <path d=\"M0 0h24v24H0V0z\" fill=\"none\"/>\n",
              "    <path d=\"M18.56 5.44l.94 2.06.94-2.06 2.06-.94-2.06-.94-.94-2.06-.94 2.06-2.06.94zm-11 1L8.5 8.5l.94-2.06 2.06-.94-2.06-.94L8.5 2.5l-.94 2.06-2.06.94zm10 10l.94 2.06.94-2.06 2.06-.94-2.06-.94-.94-2.06-.94 2.06-2.06.94z\"/><path d=\"M17.41 7.96l-1.37-1.37c-.4-.4-.92-.59-1.43-.59-.52 0-1.04.2-1.43.59L10.3 9.45l-7.72 7.72c-.78.78-.78 2.05 0 2.83L4 21.41c.39.39.9.59 1.41.59.51 0 1.02-.2 1.41-.59l7.78-7.78 2.81-2.81c.8-.78.8-2.07 0-2.86zM5.41 20L4 18.59l7.72-7.72 1.47 1.35L5.41 20z\"/>\n",
              "  </svg>\n",
              "      </button>\n",
              "      \n",
              "  <style>\n",
              "    .colab-df-container {\n",
              "      display:flex;\n",
              "      flex-wrap:wrap;\n",
              "      gap: 12px;\n",
              "    }\n",
              "\n",
              "    .colab-df-convert {\n",
              "      background-color: #E8F0FE;\n",
              "      border: none;\n",
              "      border-radius: 50%;\n",
              "      cursor: pointer;\n",
              "      display: none;\n",
              "      fill: #1967D2;\n",
              "      height: 32px;\n",
              "      padding: 0 0 0 0;\n",
              "      width: 32px;\n",
              "    }\n",
              "\n",
              "    .colab-df-convert:hover {\n",
              "      background-color: #E2EBFA;\n",
              "      box-shadow: 0px 1px 2px rgba(60, 64, 67, 0.3), 0px 1px 3px 1px rgba(60, 64, 67, 0.15);\n",
              "      fill: #174EA6;\n",
              "    }\n",
              "\n",
              "    [theme=dark] .colab-df-convert {\n",
              "      background-color: #3B4455;\n",
              "      fill: #D2E3FC;\n",
              "    }\n",
              "\n",
              "    [theme=dark] .colab-df-convert:hover {\n",
              "      background-color: #434B5C;\n",
              "      box-shadow: 0px 1px 3px 1px rgba(0, 0, 0, 0.15);\n",
              "      filter: drop-shadow(0px 1px 2px rgba(0, 0, 0, 0.3));\n",
              "      fill: #FFFFFF;\n",
              "    }\n",
              "  </style>\n",
              "\n",
              "      <script>\n",
              "        const buttonEl =\n",
              "          document.querySelector('#df-895799d7-2cc3-4d4c-b12b-722ae77ba953 button.colab-df-convert');\n",
              "        buttonEl.style.display =\n",
              "          google.colab.kernel.accessAllowed ? 'block' : 'none';\n",
              "\n",
              "        async function convertToInteractive(key) {\n",
              "          const element = document.querySelector('#df-895799d7-2cc3-4d4c-b12b-722ae77ba953');\n",
              "          const dataTable =\n",
              "            await google.colab.kernel.invokeFunction('convertToInteractive',\n",
              "                                                     [key], {});\n",
              "          if (!dataTable) return;\n",
              "\n",
              "          const docLinkHtml = 'Like what you see? Visit the ' +\n",
              "            '<a target=\"_blank\" href=https://colab.research.google.com/notebooks/data_table.ipynb>data table notebook</a>'\n",
              "            + ' to learn more about interactive tables.';\n",
              "          element.innerHTML = '';\n",
              "          dataTable['output_type'] = 'display_data';\n",
              "          await google.colab.output.renderOutput(dataTable, element);\n",
              "          const docLink = document.createElement('div');\n",
              "          docLink.innerHTML = docLinkHtml;\n",
              "          element.appendChild(docLink);\n",
              "        }\n",
              "      </script>\n",
              "    </div>\n",
              "  </div>\n",
              "  "
            ]
          },
          "metadata": {},
          "execution_count": 455
        }
      ],
      "source": [
        "#print top 5 rows in the dataframe\n",
        "df.head()"
      ],
      "id": "236633f4"
    },
    {
      "cell_type": "code",
      "execution_count": null,
      "metadata": {
        "colab": {
          "base_uri": "https://localhost:8080/",
          "height": 334
        },
        "id": "7fc88107",
        "scrolled": true,
        "outputId": "9f2a5e7b-6aad-4af8-e133-ac886d9da784"
      },
      "outputs": [
        {
          "output_type": "execute_result",
          "data": {
            "text/plain": [
              "     age gender on thyroxine query on thyroxine on antithyroid medication  \\\n",
              "3767  30      F            f                  f                         f   \n",
              "3768  68      F            f                  f                         f   \n",
              "3769  74      F            f                  f                         f   \n",
              "3770  72      M            f                  f                         f   \n",
              "3771  64      F            f                  f                         f   \n",
              "\n",
              "     sick pregnant thyroid surgery I131 treatment query hypothyroid  ...  \\\n",
              "3767    f        f               f              f                 f  ...   \n",
              "3768    f        f               f              f                 f  ...   \n",
              "3769    f        f               f              f                 f  ...   \n",
              "3770    f        f               f              f                 f  ...   \n",
              "3771    f        f               f              f                 f  ...   \n",
              "\n",
              "     TT4 measured  TT4 T4U measured   T4U FTI measured  FTI TBG measured TBG  \\\n",
              "3767            f    ?            f     ?            f    ?            f   ?   \n",
              "3768            t  124            t  1.08            t  114            f   ?   \n",
              "3769            t  112            t  1.07            t  105            f   ?   \n",
              "3770            t   82            t  0.94            t   87            f   ?   \n",
              "3771            t   99            t  1.07            t   92            f   ?   \n",
              "\n",
              "     referral source binaryClass  \n",
              "3767           other           P  \n",
              "3768             SVI           P  \n",
              "3769           other           P  \n",
              "3770             SVI           P  \n",
              "3771           other           P  \n",
              "\n",
              "[5 rows x 30 columns]"
            ],
            "text/html": [
              "\n",
              "  <div id=\"df-d61ac790-977d-402c-9fe8-a08ca550e787\">\n",
              "    <div class=\"colab-df-container\">\n",
              "      <div>\n",
              "<style scoped>\n",
              "    .dataframe tbody tr th:only-of-type {\n",
              "        vertical-align: middle;\n",
              "    }\n",
              "\n",
              "    .dataframe tbody tr th {\n",
              "        vertical-align: top;\n",
              "    }\n",
              "\n",
              "    .dataframe thead th {\n",
              "        text-align: right;\n",
              "    }\n",
              "</style>\n",
              "<table border=\"1\" class=\"dataframe\">\n",
              "  <thead>\n",
              "    <tr style=\"text-align: right;\">\n",
              "      <th></th>\n",
              "      <th>age</th>\n",
              "      <th>gender</th>\n",
              "      <th>on thyroxine</th>\n",
              "      <th>query on thyroxine</th>\n",
              "      <th>on antithyroid medication</th>\n",
              "      <th>sick</th>\n",
              "      <th>pregnant</th>\n",
              "      <th>thyroid surgery</th>\n",
              "      <th>I131 treatment</th>\n",
              "      <th>query hypothyroid</th>\n",
              "      <th>...</th>\n",
              "      <th>TT4 measured</th>\n",
              "      <th>TT4</th>\n",
              "      <th>T4U measured</th>\n",
              "      <th>T4U</th>\n",
              "      <th>FTI measured</th>\n",
              "      <th>FTI</th>\n",
              "      <th>TBG measured</th>\n",
              "      <th>TBG</th>\n",
              "      <th>referral source</th>\n",
              "      <th>binaryClass</th>\n",
              "    </tr>\n",
              "  </thead>\n",
              "  <tbody>\n",
              "    <tr>\n",
              "      <th>3767</th>\n",
              "      <td>30</td>\n",
              "      <td>F</td>\n",
              "      <td>f</td>\n",
              "      <td>f</td>\n",
              "      <td>f</td>\n",
              "      <td>f</td>\n",
              "      <td>f</td>\n",
              "      <td>f</td>\n",
              "      <td>f</td>\n",
              "      <td>f</td>\n",
              "      <td>...</td>\n",
              "      <td>f</td>\n",
              "      <td>?</td>\n",
              "      <td>f</td>\n",
              "      <td>?</td>\n",
              "      <td>f</td>\n",
              "      <td>?</td>\n",
              "      <td>f</td>\n",
              "      <td>?</td>\n",
              "      <td>other</td>\n",
              "      <td>P</td>\n",
              "    </tr>\n",
              "    <tr>\n",
              "      <th>3768</th>\n",
              "      <td>68</td>\n",
              "      <td>F</td>\n",
              "      <td>f</td>\n",
              "      <td>f</td>\n",
              "      <td>f</td>\n",
              "      <td>f</td>\n",
              "      <td>f</td>\n",
              "      <td>f</td>\n",
              "      <td>f</td>\n",
              "      <td>f</td>\n",
              "      <td>...</td>\n",
              "      <td>t</td>\n",
              "      <td>124</td>\n",
              "      <td>t</td>\n",
              "      <td>1.08</td>\n",
              "      <td>t</td>\n",
              "      <td>114</td>\n",
              "      <td>f</td>\n",
              "      <td>?</td>\n",
              "      <td>SVI</td>\n",
              "      <td>P</td>\n",
              "    </tr>\n",
              "    <tr>\n",
              "      <th>3769</th>\n",
              "      <td>74</td>\n",
              "      <td>F</td>\n",
              "      <td>f</td>\n",
              "      <td>f</td>\n",
              "      <td>f</td>\n",
              "      <td>f</td>\n",
              "      <td>f</td>\n",
              "      <td>f</td>\n",
              "      <td>f</td>\n",
              "      <td>f</td>\n",
              "      <td>...</td>\n",
              "      <td>t</td>\n",
              "      <td>112</td>\n",
              "      <td>t</td>\n",
              "      <td>1.07</td>\n",
              "      <td>t</td>\n",
              "      <td>105</td>\n",
              "      <td>f</td>\n",
              "      <td>?</td>\n",
              "      <td>other</td>\n",
              "      <td>P</td>\n",
              "    </tr>\n",
              "    <tr>\n",
              "      <th>3770</th>\n",
              "      <td>72</td>\n",
              "      <td>M</td>\n",
              "      <td>f</td>\n",
              "      <td>f</td>\n",
              "      <td>f</td>\n",
              "      <td>f</td>\n",
              "      <td>f</td>\n",
              "      <td>f</td>\n",
              "      <td>f</td>\n",
              "      <td>f</td>\n",
              "      <td>...</td>\n",
              "      <td>t</td>\n",
              "      <td>82</td>\n",
              "      <td>t</td>\n",
              "      <td>0.94</td>\n",
              "      <td>t</td>\n",
              "      <td>87</td>\n",
              "      <td>f</td>\n",
              "      <td>?</td>\n",
              "      <td>SVI</td>\n",
              "      <td>P</td>\n",
              "    </tr>\n",
              "    <tr>\n",
              "      <th>3771</th>\n",
              "      <td>64</td>\n",
              "      <td>F</td>\n",
              "      <td>f</td>\n",
              "      <td>f</td>\n",
              "      <td>f</td>\n",
              "      <td>f</td>\n",
              "      <td>f</td>\n",
              "      <td>f</td>\n",
              "      <td>f</td>\n",
              "      <td>f</td>\n",
              "      <td>...</td>\n",
              "      <td>t</td>\n",
              "      <td>99</td>\n",
              "      <td>t</td>\n",
              "      <td>1.07</td>\n",
              "      <td>t</td>\n",
              "      <td>92</td>\n",
              "      <td>f</td>\n",
              "      <td>?</td>\n",
              "      <td>other</td>\n",
              "      <td>P</td>\n",
              "    </tr>\n",
              "  </tbody>\n",
              "</table>\n",
              "<p>5 rows × 30 columns</p>\n",
              "</div>\n",
              "      <button class=\"colab-df-convert\" onclick=\"convertToInteractive('df-d61ac790-977d-402c-9fe8-a08ca550e787')\"\n",
              "              title=\"Convert this dataframe to an interactive table.\"\n",
              "              style=\"display:none;\">\n",
              "        \n",
              "  <svg xmlns=\"http://www.w3.org/2000/svg\" height=\"24px\"viewBox=\"0 0 24 24\"\n",
              "       width=\"24px\">\n",
              "    <path d=\"M0 0h24v24H0V0z\" fill=\"none\"/>\n",
              "    <path d=\"M18.56 5.44l.94 2.06.94-2.06 2.06-.94-2.06-.94-.94-2.06-.94 2.06-2.06.94zm-11 1L8.5 8.5l.94-2.06 2.06-.94-2.06-.94L8.5 2.5l-.94 2.06-2.06.94zm10 10l.94 2.06.94-2.06 2.06-.94-2.06-.94-.94-2.06-.94 2.06-2.06.94z\"/><path d=\"M17.41 7.96l-1.37-1.37c-.4-.4-.92-.59-1.43-.59-.52 0-1.04.2-1.43.59L10.3 9.45l-7.72 7.72c-.78.78-.78 2.05 0 2.83L4 21.41c.39.39.9.59 1.41.59.51 0 1.02-.2 1.41-.59l7.78-7.78 2.81-2.81c.8-.78.8-2.07 0-2.86zM5.41 20L4 18.59l7.72-7.72 1.47 1.35L5.41 20z\"/>\n",
              "  </svg>\n",
              "      </button>\n",
              "      \n",
              "  <style>\n",
              "    .colab-df-container {\n",
              "      display:flex;\n",
              "      flex-wrap:wrap;\n",
              "      gap: 12px;\n",
              "    }\n",
              "\n",
              "    .colab-df-convert {\n",
              "      background-color: #E8F0FE;\n",
              "      border: none;\n",
              "      border-radius: 50%;\n",
              "      cursor: pointer;\n",
              "      display: none;\n",
              "      fill: #1967D2;\n",
              "      height: 32px;\n",
              "      padding: 0 0 0 0;\n",
              "      width: 32px;\n",
              "    }\n",
              "\n",
              "    .colab-df-convert:hover {\n",
              "      background-color: #E2EBFA;\n",
              "      box-shadow: 0px 1px 2px rgba(60, 64, 67, 0.3), 0px 1px 3px 1px rgba(60, 64, 67, 0.15);\n",
              "      fill: #174EA6;\n",
              "    }\n",
              "\n",
              "    [theme=dark] .colab-df-convert {\n",
              "      background-color: #3B4455;\n",
              "      fill: #D2E3FC;\n",
              "    }\n",
              "\n",
              "    [theme=dark] .colab-df-convert:hover {\n",
              "      background-color: #434B5C;\n",
              "      box-shadow: 0px 1px 3px 1px rgba(0, 0, 0, 0.15);\n",
              "      filter: drop-shadow(0px 1px 2px rgba(0, 0, 0, 0.3));\n",
              "      fill: #FFFFFF;\n",
              "    }\n",
              "  </style>\n",
              "\n",
              "      <script>\n",
              "        const buttonEl =\n",
              "          document.querySelector('#df-d61ac790-977d-402c-9fe8-a08ca550e787 button.colab-df-convert');\n",
              "        buttonEl.style.display =\n",
              "          google.colab.kernel.accessAllowed ? 'block' : 'none';\n",
              "\n",
              "        async function convertToInteractive(key) {\n",
              "          const element = document.querySelector('#df-d61ac790-977d-402c-9fe8-a08ca550e787');\n",
              "          const dataTable =\n",
              "            await google.colab.kernel.invokeFunction('convertToInteractive',\n",
              "                                                     [key], {});\n",
              "          if (!dataTable) return;\n",
              "\n",
              "          const docLinkHtml = 'Like what you see? Visit the ' +\n",
              "            '<a target=\"_blank\" href=https://colab.research.google.com/notebooks/data_table.ipynb>data table notebook</a>'\n",
              "            + ' to learn more about interactive tables.';\n",
              "          element.innerHTML = '';\n",
              "          dataTable['output_type'] = 'display_data';\n",
              "          await google.colab.output.renderOutput(dataTable, element);\n",
              "          const docLink = document.createElement('div');\n",
              "          docLink.innerHTML = docLinkHtml;\n",
              "          element.appendChild(docLink);\n",
              "        }\n",
              "      </script>\n",
              "    </div>\n",
              "  </div>\n",
              "  "
            ]
          },
          "metadata": {},
          "execution_count": 456
        }
      ],
      "source": [
        "#print last 5 rows in the dataframe\n",
        "df.tail()"
      ],
      "id": "7fc88107"
    },
    {
      "cell_type": "code",
      "execution_count": null,
      "metadata": {
        "id": "787e091b"
      },
      "outputs": [],
      "source": [],
      "id": "787e091b"
    },
    {
      "cell_type": "code",
      "execution_count": null,
      "metadata": {
        "colab": {
          "base_uri": "https://localhost:8080/"
        },
        "id": "4d376b4e",
        "outputId": "a7131c6a-dd9e-4721-f2b0-c3696e1acb36"
      },
      "outputs": [
        {
          "output_type": "execute_result",
          "data": {
            "text/plain": [
              "(3772, 30)"
            ]
          },
          "metadata": {},
          "execution_count": 457
        }
      ],
      "source": [
        "df.shape"
      ],
      "id": "4d376b4e"
    },
    {
      "cell_type": "code",
      "execution_count": null,
      "metadata": {
        "colab": {
          "base_uri": "https://localhost:8080/"
        },
        "id": "9474923c",
        "outputId": "09410677-1cc0-4162-a24a-897ed0ea284f"
      },
      "outputs": [
        {
          "output_type": "execute_result",
          "data": {
            "text/plain": [
              "age                          object\n",
              "gender                       object\n",
              "on thyroxine                 object\n",
              "query on thyroxine           object\n",
              "on antithyroid medication    object\n",
              "sick                         object\n",
              "pregnant                     object\n",
              "thyroid surgery              object\n",
              "I131 treatment               object\n",
              "query hypothyroid            object\n",
              "query hyperthyroid           object\n",
              "lithium                      object\n",
              "goitre                       object\n",
              "tumor                        object\n",
              "hypopituitary                object\n",
              "psych                        object\n",
              "TSH measured                 object\n",
              "TSH                          object\n",
              "T3 measured                  object\n",
              "T3                           object\n",
              "TT4 measured                 object\n",
              "TT4                          object\n",
              "T4U measured                 object\n",
              "T4U                          object\n",
              "FTI measured                 object\n",
              "FTI                          object\n",
              "TBG measured                 object\n",
              "TBG                          object\n",
              "referral source              object\n",
              "binaryClass                  object\n",
              "dtype: object"
            ]
          },
          "metadata": {},
          "execution_count": 458
        }
      ],
      "source": [
        "df.dtypes"
      ],
      "id": "9474923c"
    },
    {
      "cell_type": "code",
      "execution_count": null,
      "metadata": {
        "colab": {
          "base_uri": "https://localhost:8080/"
        },
        "id": "085a0eb6",
        "outputId": "354fa454-c76a-4302-9b82-298e0e0573a2"
      },
      "outputs": [
        {
          "output_type": "stream",
          "name": "stdout",
          "text": [
            "<class 'pandas.core.frame.DataFrame'>\n",
            "RangeIndex: 3772 entries, 0 to 3771\n",
            "Data columns (total 30 columns):\n",
            " #   Column                     Non-Null Count  Dtype \n",
            "---  ------                     --------------  ----- \n",
            " 0   age                        3772 non-null   object\n",
            " 1   gender                     3772 non-null   object\n",
            " 2   on thyroxine               3772 non-null   object\n",
            " 3   query on thyroxine         3772 non-null   object\n",
            " 4   on antithyroid medication  3772 non-null   object\n",
            " 5   sick                       3772 non-null   object\n",
            " 6   pregnant                   3772 non-null   object\n",
            " 7   thyroid surgery            3772 non-null   object\n",
            " 8   I131 treatment             3772 non-null   object\n",
            " 9   query hypothyroid          3772 non-null   object\n",
            " 10  query hyperthyroid         3772 non-null   object\n",
            " 11  lithium                    3772 non-null   object\n",
            " 12  goitre                     3772 non-null   object\n",
            " 13  tumor                      3772 non-null   object\n",
            " 14  hypopituitary              3772 non-null   object\n",
            " 15  psych                      3772 non-null   object\n",
            " 16  TSH measured               3772 non-null   object\n",
            " 17  TSH                        3772 non-null   object\n",
            " 18  T3 measured                3772 non-null   object\n",
            " 19  T3                         3772 non-null   object\n",
            " 20  TT4 measured               3772 non-null   object\n",
            " 21  TT4                        3772 non-null   object\n",
            " 22  T4U measured               3772 non-null   object\n",
            " 23  T4U                        3772 non-null   object\n",
            " 24  FTI measured               3772 non-null   object\n",
            " 25  FTI                        3772 non-null   object\n",
            " 26  TBG measured               3772 non-null   object\n",
            " 27  TBG                        3772 non-null   object\n",
            " 28  referral source            3772 non-null   object\n",
            " 29  binaryClass                3772 non-null   object\n",
            "dtypes: object(30)\n",
            "memory usage: 884.2+ KB\n"
          ]
        }
      ],
      "source": [
        "df.info()"
      ],
      "id": "085a0eb6"
    },
    {
      "cell_type": "markdown",
      "metadata": {
        "id": "df6e61c5"
      },
      "source": [
        "# checking for null values"
      ],
      "id": "df6e61c5"
    },
    {
      "cell_type": "code",
      "execution_count": null,
      "metadata": {
        "colab": {
          "base_uri": "https://localhost:8080/"
        },
        "id": "f14125b7",
        "outputId": "41679bdc-b4ac-45c8-c64c-83be28d8e255"
      },
      "outputs": [
        {
          "output_type": "execute_result",
          "data": {
            "text/plain": [
              "age                          0\n",
              "gender                       0\n",
              "on thyroxine                 0\n",
              "query on thyroxine           0\n",
              "on antithyroid medication    0\n",
              "sick                         0\n",
              "pregnant                     0\n",
              "thyroid surgery              0\n",
              "I131 treatment               0\n",
              "query hypothyroid            0\n",
              "query hyperthyroid           0\n",
              "lithium                      0\n",
              "goitre                       0\n",
              "tumor                        0\n",
              "hypopituitary                0\n",
              "psych                        0\n",
              "TSH measured                 0\n",
              "TSH                          0\n",
              "T3 measured                  0\n",
              "T3                           0\n",
              "TT4 measured                 0\n",
              "TT4                          0\n",
              "T4U measured                 0\n",
              "T4U                          0\n",
              "FTI measured                 0\n",
              "FTI                          0\n",
              "TBG measured                 0\n",
              "TBG                          0\n",
              "referral source              0\n",
              "binaryClass                  0\n",
              "dtype: int64"
            ]
          },
          "metadata": {},
          "execution_count": 460
        }
      ],
      "source": [
        "df.isnull().sum()"
      ],
      "id": "f14125b7"
    },
    {
      "cell_type": "code",
      "execution_count": null,
      "metadata": {
        "colab": {
          "base_uri": "https://localhost:8080/"
        },
        "id": "add93215",
        "outputId": "9c794cd4-ee39-4956-dca1-e2982532f7d4"
      },
      "outputs": [
        {
          "output_type": "execute_result",
          "data": {
            "text/plain": [
              "age                          False\n",
              "gender                       False\n",
              "on thyroxine                 False\n",
              "query on thyroxine           False\n",
              "on antithyroid medication    False\n",
              "sick                         False\n",
              "pregnant                     False\n",
              "thyroid surgery              False\n",
              "I131 treatment               False\n",
              "query hypothyroid            False\n",
              "query hyperthyroid           False\n",
              "lithium                      False\n",
              "goitre                       False\n",
              "tumor                        False\n",
              "hypopituitary                False\n",
              "psych                        False\n",
              "TSH measured                 False\n",
              "TSH                          False\n",
              "T3 measured                  False\n",
              "T3                           False\n",
              "TT4 measured                 False\n",
              "TT4                          False\n",
              "T4U measured                 False\n",
              "T4U                          False\n",
              "FTI measured                 False\n",
              "FTI                          False\n",
              "TBG measured                 False\n",
              "TBG                          False\n",
              "referral source              False\n",
              "binaryClass                  False\n",
              "dtype: bool"
            ]
          },
          "metadata": {},
          "execution_count": 461
        }
      ],
      "source": [
        "df.isna().any()"
      ],
      "id": "add93215"
    },
    {
      "cell_type": "markdown",
      "metadata": {
        "id": "7ab78357"
      },
      "source": [
        "# Data Preprocessing\n",
        "\n",
        "Age"
      ],
      "id": "7ab78357"
    },
    {
      "cell_type": "code",
      "execution_count": null,
      "metadata": {
        "colab": {
          "base_uri": "https://localhost:8080/"
        },
        "id": "9cf6e994",
        "scrolled": true,
        "outputId": "b0fd8b0f-5a5d-4883-fbd8-c17ec1dd3f35"
      },
      "outputs": [
        {
          "output_type": "execute_result",
          "data": {
            "text/plain": [
              "Index(['age', 'gender', 'on thyroxine', 'query on thyroxine',\n",
              "       'on antithyroid medication', 'sick', 'pregnant', 'thyroid surgery',\n",
              "       'I131 treatment', 'query hypothyroid', 'query hyperthyroid', 'lithium',\n",
              "       'goitre', 'tumor', 'hypopituitary', 'psych', 'TSH measured', 'TSH',\n",
              "       'T3 measured', 'T3', 'TT4 measured', 'TT4', 'T4U measured', 'T4U',\n",
              "       'FTI measured', 'FTI', 'TBG measured', 'TBG', 'referral source',\n",
              "       'binaryClass'],\n",
              "      dtype='object')"
            ]
          },
          "metadata": {},
          "execution_count": 462
        }
      ],
      "source": [
        "df.columns"
      ],
      "id": "9cf6e994"
    },
    {
      "cell_type": "code",
      "execution_count": null,
      "metadata": {
        "colab": {
          "base_uri": "https://localhost:8080/"
        },
        "id": "955b1548",
        "outputId": "d018d36b-d803-4825-ee57-31962768aefe"
      },
      "outputs": [
        {
          "output_type": "execute_result",
          "data": {
            "text/plain": [
              "count     3772\n",
              "unique      94\n",
              "top         59\n",
              "freq        95\n",
              "Name: age, dtype: object"
            ]
          },
          "metadata": {},
          "execution_count": 463
        }
      ],
      "source": [
        "df['age'].describe()"
      ],
      "id": "955b1548"
    },
    {
      "cell_type": "code",
      "execution_count": null,
      "metadata": {
        "colab": {
          "base_uri": "https://localhost:8080/"
        },
        "id": "20b069cb",
        "scrolled": true,
        "outputId": "1c4aa8af-9b22-40c6-ad7a-1313f92ad093"
      },
      "outputs": [
        {
          "output_type": "execute_result",
          "data": {
            "text/plain": [
              "array(['41', '23', '46', '70', '18', '59', '80', '66', '68', '84', '67',\n",
              "       '71', '28', '65', '42', '63', '51', '81', '54', '55', '60', '25',\n",
              "       '73', '34', '78', '37', '85', '26', '58', '64', '44', '48', '61',\n",
              "       '35', '83', '21', '87', '53', '77', '27', '69', '74', '38', '76',\n",
              "       '45', '36', '22', '43', '72', '82', '31', '39', '49', '62', '57',\n",
              "       '1', '50', '30', '29', '75', '19', '7', '79', '17', '24', '15',\n",
              "       '32', '47', '16', '52', '33', '13', '10', '89', '56', '20', '90',\n",
              "       '40', '88', '14', '86', '94', '12', '4', '11', '8', '5', '455',\n",
              "       '2', '91', '6', '?', '93', '92'], dtype=object)"
            ]
          },
          "metadata": {},
          "execution_count": 464
        }
      ],
      "source": [
        "df['age'].unique()"
      ],
      "id": "20b069cb"
    },
    {
      "cell_type": "code",
      "execution_count": null,
      "metadata": {
        "colab": {
          "base_uri": "https://localhost:8080/",
          "height": 209
        },
        "id": "57b25e7d",
        "outputId": "e7193c96-3754-40f2-d209-2e95388f9da8"
      },
      "outputs": [
        {
          "output_type": "execute_result",
          "data": {
            "text/plain": [
              "     age gender on thyroxine query on thyroxine on antithyroid medication  \\\n",
              "1985   ?      F            t                  f                         f   \n",
              "\n",
              "     sick pregnant thyroid surgery I131 treatment query hypothyroid  ...  \\\n",
              "1985    f        f               f              t                 f  ...   \n",
              "\n",
              "     TT4 measured  TT4 T4U measured   T4U FTI measured  FTI TBG measured TBG  \\\n",
              "1985            t  120            t  0.82            t  146            f   ?   \n",
              "\n",
              "     referral source binaryClass  \n",
              "1985           other           P  \n",
              "\n",
              "[1 rows x 30 columns]"
            ],
            "text/html": [
              "\n",
              "  <div id=\"df-22aadca0-2cec-4766-81e5-af8db82825e9\">\n",
              "    <div class=\"colab-df-container\">\n",
              "      <div>\n",
              "<style scoped>\n",
              "    .dataframe tbody tr th:only-of-type {\n",
              "        vertical-align: middle;\n",
              "    }\n",
              "\n",
              "    .dataframe tbody tr th {\n",
              "        vertical-align: top;\n",
              "    }\n",
              "\n",
              "    .dataframe thead th {\n",
              "        text-align: right;\n",
              "    }\n",
              "</style>\n",
              "<table border=\"1\" class=\"dataframe\">\n",
              "  <thead>\n",
              "    <tr style=\"text-align: right;\">\n",
              "      <th></th>\n",
              "      <th>age</th>\n",
              "      <th>gender</th>\n",
              "      <th>on thyroxine</th>\n",
              "      <th>query on thyroxine</th>\n",
              "      <th>on antithyroid medication</th>\n",
              "      <th>sick</th>\n",
              "      <th>pregnant</th>\n",
              "      <th>thyroid surgery</th>\n",
              "      <th>I131 treatment</th>\n",
              "      <th>query hypothyroid</th>\n",
              "      <th>...</th>\n",
              "      <th>TT4 measured</th>\n",
              "      <th>TT4</th>\n",
              "      <th>T4U measured</th>\n",
              "      <th>T4U</th>\n",
              "      <th>FTI measured</th>\n",
              "      <th>FTI</th>\n",
              "      <th>TBG measured</th>\n",
              "      <th>TBG</th>\n",
              "      <th>referral source</th>\n",
              "      <th>binaryClass</th>\n",
              "    </tr>\n",
              "  </thead>\n",
              "  <tbody>\n",
              "    <tr>\n",
              "      <th>1985</th>\n",
              "      <td>?</td>\n",
              "      <td>F</td>\n",
              "      <td>t</td>\n",
              "      <td>f</td>\n",
              "      <td>f</td>\n",
              "      <td>f</td>\n",
              "      <td>f</td>\n",
              "      <td>f</td>\n",
              "      <td>t</td>\n",
              "      <td>f</td>\n",
              "      <td>...</td>\n",
              "      <td>t</td>\n",
              "      <td>120</td>\n",
              "      <td>t</td>\n",
              "      <td>0.82</td>\n",
              "      <td>t</td>\n",
              "      <td>146</td>\n",
              "      <td>f</td>\n",
              "      <td>?</td>\n",
              "      <td>other</td>\n",
              "      <td>P</td>\n",
              "    </tr>\n",
              "  </tbody>\n",
              "</table>\n",
              "<p>1 rows × 30 columns</p>\n",
              "</div>\n",
              "      <button class=\"colab-df-convert\" onclick=\"convertToInteractive('df-22aadca0-2cec-4766-81e5-af8db82825e9')\"\n",
              "              title=\"Convert this dataframe to an interactive table.\"\n",
              "              style=\"display:none;\">\n",
              "        \n",
              "  <svg xmlns=\"http://www.w3.org/2000/svg\" height=\"24px\"viewBox=\"0 0 24 24\"\n",
              "       width=\"24px\">\n",
              "    <path d=\"M0 0h24v24H0V0z\" fill=\"none\"/>\n",
              "    <path d=\"M18.56 5.44l.94 2.06.94-2.06 2.06-.94-2.06-.94-.94-2.06-.94 2.06-2.06.94zm-11 1L8.5 8.5l.94-2.06 2.06-.94-2.06-.94L8.5 2.5l-.94 2.06-2.06.94zm10 10l.94 2.06.94-2.06 2.06-.94-2.06-.94-.94-2.06-.94 2.06-2.06.94z\"/><path d=\"M17.41 7.96l-1.37-1.37c-.4-.4-.92-.59-1.43-.59-.52 0-1.04.2-1.43.59L10.3 9.45l-7.72 7.72c-.78.78-.78 2.05 0 2.83L4 21.41c.39.39.9.59 1.41.59.51 0 1.02-.2 1.41-.59l7.78-7.78 2.81-2.81c.8-.78.8-2.07 0-2.86zM5.41 20L4 18.59l7.72-7.72 1.47 1.35L5.41 20z\"/>\n",
              "  </svg>\n",
              "      </button>\n",
              "      \n",
              "  <style>\n",
              "    .colab-df-container {\n",
              "      display:flex;\n",
              "      flex-wrap:wrap;\n",
              "      gap: 12px;\n",
              "    }\n",
              "\n",
              "    .colab-df-convert {\n",
              "      background-color: #E8F0FE;\n",
              "      border: none;\n",
              "      border-radius: 50%;\n",
              "      cursor: pointer;\n",
              "      display: none;\n",
              "      fill: #1967D2;\n",
              "      height: 32px;\n",
              "      padding: 0 0 0 0;\n",
              "      width: 32px;\n",
              "    }\n",
              "\n",
              "    .colab-df-convert:hover {\n",
              "      background-color: #E2EBFA;\n",
              "      box-shadow: 0px 1px 2px rgba(60, 64, 67, 0.3), 0px 1px 3px 1px rgba(60, 64, 67, 0.15);\n",
              "      fill: #174EA6;\n",
              "    }\n",
              "\n",
              "    [theme=dark] .colab-df-convert {\n",
              "      background-color: #3B4455;\n",
              "      fill: #D2E3FC;\n",
              "    }\n",
              "\n",
              "    [theme=dark] .colab-df-convert:hover {\n",
              "      background-color: #434B5C;\n",
              "      box-shadow: 0px 1px 3px 1px rgba(0, 0, 0, 0.15);\n",
              "      filter: drop-shadow(0px 1px 2px rgba(0, 0, 0, 0.3));\n",
              "      fill: #FFFFFF;\n",
              "    }\n",
              "  </style>\n",
              "\n",
              "      <script>\n",
              "        const buttonEl =\n",
              "          document.querySelector('#df-22aadca0-2cec-4766-81e5-af8db82825e9 button.colab-df-convert');\n",
              "        buttonEl.style.display =\n",
              "          google.colab.kernel.accessAllowed ? 'block' : 'none';\n",
              "\n",
              "        async function convertToInteractive(key) {\n",
              "          const element = document.querySelector('#df-22aadca0-2cec-4766-81e5-af8db82825e9');\n",
              "          const dataTable =\n",
              "            await google.colab.kernel.invokeFunction('convertToInteractive',\n",
              "                                                     [key], {});\n",
              "          if (!dataTable) return;\n",
              "\n",
              "          const docLinkHtml = 'Like what you see? Visit the ' +\n",
              "            '<a target=\"_blank\" href=https://colab.research.google.com/notebooks/data_table.ipynb>data table notebook</a>'\n",
              "            + ' to learn more about interactive tables.';\n",
              "          element.innerHTML = '';\n",
              "          dataTable['output_type'] = 'display_data';\n",
              "          await google.colab.output.renderOutput(dataTable, element);\n",
              "          const docLink = document.createElement('div');\n",
              "          docLink.innerHTML = docLinkHtml;\n",
              "          element.appendChild(docLink);\n",
              "        }\n",
              "      </script>\n",
              "    </div>\n",
              "  </div>\n",
              "  "
            ]
          },
          "metadata": {},
          "execution_count": 465
        }
      ],
      "source": [
        "df[df['age']=='?']"
      ],
      "id": "57b25e7d"
    },
    {
      "cell_type": "code",
      "execution_count": null,
      "metadata": {
        "colab": {
          "base_uri": "https://localhost:8080/",
          "height": 81
        },
        "id": "1a51524e",
        "outputId": "72028bbd-c4a0-44a5-f023-d3873fbe5dd1"
      },
      "outputs": [
        {
          "output_type": "execute_result",
          "data": {
            "text/plain": [
              "  age\n",
              "0  70"
            ],
            "text/html": [
              "\n",
              "  <div id=\"df-f2bbfbe5-2467-4376-9145-4154fca2aec3\">\n",
              "    <div class=\"colab-df-container\">\n",
              "      <div>\n",
              "<style scoped>\n",
              "    .dataframe tbody tr th:only-of-type {\n",
              "        vertical-align: middle;\n",
              "    }\n",
              "\n",
              "    .dataframe tbody tr th {\n",
              "        vertical-align: top;\n",
              "    }\n",
              "\n",
              "    .dataframe thead th {\n",
              "        text-align: right;\n",
              "    }\n",
              "</style>\n",
              "<table border=\"1\" class=\"dataframe\">\n",
              "  <thead>\n",
              "    <tr style=\"text-align: right;\">\n",
              "      <th></th>\n",
              "      <th>age</th>\n",
              "    </tr>\n",
              "  </thead>\n",
              "  <tbody>\n",
              "    <tr>\n",
              "      <th>0</th>\n",
              "      <td>70</td>\n",
              "    </tr>\n",
              "  </tbody>\n",
              "</table>\n",
              "</div>\n",
              "      <button class=\"colab-df-convert\" onclick=\"convertToInteractive('df-f2bbfbe5-2467-4376-9145-4154fca2aec3')\"\n",
              "              title=\"Convert this dataframe to an interactive table.\"\n",
              "              style=\"display:none;\">\n",
              "        \n",
              "  <svg xmlns=\"http://www.w3.org/2000/svg\" height=\"24px\"viewBox=\"0 0 24 24\"\n",
              "       width=\"24px\">\n",
              "    <path d=\"M0 0h24v24H0V0z\" fill=\"none\"/>\n",
              "    <path d=\"M18.56 5.44l.94 2.06.94-2.06 2.06-.94-2.06-.94-.94-2.06-.94 2.06-2.06.94zm-11 1L8.5 8.5l.94-2.06 2.06-.94-2.06-.94L8.5 2.5l-.94 2.06-2.06.94zm10 10l.94 2.06.94-2.06 2.06-.94-2.06-.94-.94-2.06-.94 2.06-2.06.94z\"/><path d=\"M17.41 7.96l-1.37-1.37c-.4-.4-.92-.59-1.43-.59-.52 0-1.04.2-1.43.59L10.3 9.45l-7.72 7.72c-.78.78-.78 2.05 0 2.83L4 21.41c.39.39.9.59 1.41.59.51 0 1.02-.2 1.41-.59l7.78-7.78 2.81-2.81c.8-.78.8-2.07 0-2.86zM5.41 20L4 18.59l7.72-7.72 1.47 1.35L5.41 20z\"/>\n",
              "  </svg>\n",
              "      </button>\n",
              "      \n",
              "  <style>\n",
              "    .colab-df-container {\n",
              "      display:flex;\n",
              "      flex-wrap:wrap;\n",
              "      gap: 12px;\n",
              "    }\n",
              "\n",
              "    .colab-df-convert {\n",
              "      background-color: #E8F0FE;\n",
              "      border: none;\n",
              "      border-radius: 50%;\n",
              "      cursor: pointer;\n",
              "      display: none;\n",
              "      fill: #1967D2;\n",
              "      height: 32px;\n",
              "      padding: 0 0 0 0;\n",
              "      width: 32px;\n",
              "    }\n",
              "\n",
              "    .colab-df-convert:hover {\n",
              "      background-color: #E2EBFA;\n",
              "      box-shadow: 0px 1px 2px rgba(60, 64, 67, 0.3), 0px 1px 3px 1px rgba(60, 64, 67, 0.15);\n",
              "      fill: #174EA6;\n",
              "    }\n",
              "\n",
              "    [theme=dark] .colab-df-convert {\n",
              "      background-color: #3B4455;\n",
              "      fill: #D2E3FC;\n",
              "    }\n",
              "\n",
              "    [theme=dark] .colab-df-convert:hover {\n",
              "      background-color: #434B5C;\n",
              "      box-shadow: 0px 1px 3px 1px rgba(0, 0, 0, 0.15);\n",
              "      filter: drop-shadow(0px 1px 2px rgba(0, 0, 0, 0.3));\n",
              "      fill: #FFFFFF;\n",
              "    }\n",
              "  </style>\n",
              "\n",
              "      <script>\n",
              "        const buttonEl =\n",
              "          document.querySelector('#df-f2bbfbe5-2467-4376-9145-4154fca2aec3 button.colab-df-convert');\n",
              "        buttonEl.style.display =\n",
              "          google.colab.kernel.accessAllowed ? 'block' : 'none';\n",
              "\n",
              "        async function convertToInteractive(key) {\n",
              "          const element = document.querySelector('#df-f2bbfbe5-2467-4376-9145-4154fca2aec3');\n",
              "          const dataTable =\n",
              "            await google.colab.kernel.invokeFunction('convertToInteractive',\n",
              "                                                     [key], {});\n",
              "          if (!dataTable) return;\n",
              "\n",
              "          const docLinkHtml = 'Like what you see? Visit the ' +\n",
              "            '<a target=\"_blank\" href=https://colab.research.google.com/notebooks/data_table.ipynb>data table notebook</a>'\n",
              "            + ' to learn more about interactive tables.';\n",
              "          element.innerHTML = '';\n",
              "          dataTable['output_type'] = 'display_data';\n",
              "          await google.colab.output.renderOutput(dataTable, element);\n",
              "          const docLink = document.createElement('div');\n",
              "          docLink.innerHTML = docLinkHtml;\n",
              "          element.appendChild(docLink);\n",
              "        }\n",
              "      </script>\n",
              "    </div>\n",
              "  </div>\n",
              "  "
            ]
          },
          "metadata": {},
          "execution_count": 466
        }
      ],
      "source": [
        "df[(df['gender']=='F') & (df['age']!='?')][['age']].mode()"
      ],
      "id": "1a51524e"
    },
    {
      "cell_type": "code",
      "execution_count": null,
      "metadata": {
        "id": "e228ab0b"
      },
      "outputs": [],
      "source": [
        "df.iloc[1985,:]['age'] = 70"
      ],
      "id": "e228ab0b"
    },
    {
      "cell_type": "markdown",
      "metadata": {
        "id": "b8136330"
      },
      "source": [
        "# gender"
      ],
      "id": "b8136330"
    },
    {
      "cell_type": "code",
      "execution_count": null,
      "metadata": {
        "colab": {
          "base_uri": "https://localhost:8080/"
        },
        "id": "ddd6c47c",
        "outputId": "dda3ebad-b863-4e3b-add0-a0cbc9dc2c34"
      },
      "outputs": [
        {
          "output_type": "execute_result",
          "data": {
            "text/plain": [
              "dtype('O')"
            ]
          },
          "metadata": {},
          "execution_count": 468
        }
      ],
      "source": [
        "df['gender'].dtypes"
      ],
      "id": "ddd6c47c"
    },
    {
      "cell_type": "code",
      "execution_count": null,
      "metadata": {
        "colab": {
          "base_uri": "https://localhost:8080/"
        },
        "id": "46acb6d6",
        "outputId": "f8c47e91-f6ac-4c20-e95d-068261de732d"
      },
      "outputs": [
        {
          "output_type": "execute_result",
          "data": {
            "text/plain": [
              "array(['F', 'M', '?'], dtype=object)"
            ]
          },
          "metadata": {},
          "execution_count": 469
        }
      ],
      "source": [
        "df['gender'].unique()"
      ],
      "id": "46acb6d6"
    },
    {
      "cell_type": "code",
      "execution_count": null,
      "metadata": {
        "colab": {
          "base_uri": "https://localhost:8080/"
        },
        "id": "d59ac86b",
        "outputId": "7d18cf76-2a8d-4afc-833a-309927cc3fe1"
      },
      "outputs": [
        {
          "output_type": "execute_result",
          "data": {
            "text/plain": [
              "F    2480\n",
              "M    1142\n",
              "?     150\n",
              "Name: gender, dtype: int64"
            ]
          },
          "metadata": {},
          "execution_count": 470
        }
      ],
      "source": [
        "df['gender'].value_counts()"
      ],
      "id": "d59ac86b"
    },
    {
      "cell_type": "code",
      "execution_count": null,
      "metadata": {
        "id": "2a28bb74"
      },
      "outputs": [],
      "source": [
        "df = df[df['gender']!='?']"
      ],
      "id": "2a28bb74"
    },
    {
      "cell_type": "code",
      "execution_count": null,
      "metadata": {
        "colab": {
          "base_uri": "https://localhost:8080/"
        },
        "id": "29fe8b9f",
        "outputId": "75140365-d326-437e-bcd8-fb1a44b086e7"
      },
      "outputs": [
        {
          "output_type": "execute_result",
          "data": {
            "text/plain": [
              "(3622, 30)"
            ]
          },
          "metadata": {},
          "execution_count": 472
        }
      ],
      "source": [
        "df.shape"
      ],
      "id": "29fe8b9f"
    },
    {
      "cell_type": "markdown",
      "metadata": {
        "id": "bf7d7eed"
      },
      "source": [
        "# on thyroxine"
      ],
      "id": "bf7d7eed"
    },
    {
      "cell_type": "code",
      "execution_count": null,
      "metadata": {
        "colab": {
          "base_uri": "https://localhost:8080/"
        },
        "id": "a6cbd80e",
        "outputId": "5d725e30-c9a7-4c82-d908-ae1edbf2ec88"
      },
      "outputs": [
        {
          "output_type": "execute_result",
          "data": {
            "text/plain": [
              "array(['f', 't'], dtype=object)"
            ]
          },
          "metadata": {},
          "execution_count": 473
        }
      ],
      "source": [
        "df['on thyroxine'].unique()"
      ],
      "id": "a6cbd80e"
    },
    {
      "cell_type": "code",
      "execution_count": null,
      "metadata": {
        "colab": {
          "base_uri": "https://localhost:8080/"
        },
        "id": "9e982d25",
        "outputId": "e387f4d7-3839-4ba8-ce8f-a1026dbd88fe"
      },
      "outputs": [
        {
          "output_type": "execute_result",
          "data": {
            "text/plain": [
              "f    3173\n",
              "t     449\n",
              "Name: on thyroxine, dtype: int64"
            ]
          },
          "metadata": {},
          "execution_count": 474
        }
      ],
      "source": [
        "df['on thyroxine'].value_counts()"
      ],
      "id": "9e982d25"
    },
    {
      "cell_type": "markdown",
      "metadata": {
        "id": "e6e707e0"
      },
      "source": [
        "# query on thyroxine"
      ],
      "id": "e6e707e0"
    },
    {
      "cell_type": "code",
      "execution_count": null,
      "metadata": {
        "colab": {
          "base_uri": "https://localhost:8080/"
        },
        "id": "fc4d4e12",
        "outputId": "a424720e-2256-4511-b698-a51cd9588f30"
      },
      "outputs": [
        {
          "output_type": "execute_result",
          "data": {
            "text/plain": [
              "array(['f', 't'], dtype=object)"
            ]
          },
          "metadata": {},
          "execution_count": 475
        }
      ],
      "source": [
        "df['query on thyroxine'].unique()"
      ],
      "id": "fc4d4e12"
    },
    {
      "cell_type": "code",
      "execution_count": null,
      "metadata": {
        "colab": {
          "base_uri": "https://localhost:8080/"
        },
        "id": "9ae572b2",
        "outputId": "d6ad89dc-c1f7-4238-cf0c-fe49e110868b"
      },
      "outputs": [
        {
          "output_type": "execute_result",
          "data": {
            "text/plain": [
              "f    3573\n",
              "t      49\n",
              "Name: query on thyroxine, dtype: int64"
            ]
          },
          "metadata": {},
          "execution_count": 476
        }
      ],
      "source": [
        "df['query on thyroxine'].value_counts()"
      ],
      "id": "9ae572b2"
    },
    {
      "cell_type": "markdown",
      "metadata": {
        "id": "8ef0add8"
      },
      "source": [
        "# on antithyroid medication"
      ],
      "id": "8ef0add8"
    },
    {
      "cell_type": "code",
      "execution_count": null,
      "metadata": {
        "colab": {
          "base_uri": "https://localhost:8080/"
        },
        "id": "cd6eb3ad",
        "outputId": "04a91505-f6f0-4f33-e163-2a6d03124b8f"
      },
      "outputs": [
        {
          "output_type": "execute_result",
          "data": {
            "text/plain": [
              "array(['f', 't'], dtype=object)"
            ]
          },
          "metadata": {},
          "execution_count": 477
        }
      ],
      "source": [
        "df['on antithyroid medication'].unique()"
      ],
      "id": "cd6eb3ad"
    },
    {
      "cell_type": "code",
      "execution_count": null,
      "metadata": {
        "colab": {
          "base_uri": "https://localhost:8080/"
        },
        "id": "05217d04",
        "scrolled": true,
        "outputId": "07c44c87-8f23-4b02-f1b9-8684d1e26711"
      },
      "outputs": [
        {
          "output_type": "execute_result",
          "data": {
            "text/plain": [
              "f    3579\n",
              "t      43\n",
              "Name: on antithyroid medication, dtype: int64"
            ]
          },
          "metadata": {},
          "execution_count": 478
        }
      ],
      "source": [
        "df['on antithyroid medication'].value_counts()"
      ],
      "id": "05217d04"
    },
    {
      "cell_type": "markdown",
      "metadata": {
        "id": "e0b3c203"
      },
      "source": [
        "#  sick\n"
      ],
      "id": "e0b3c203"
    },
    {
      "cell_type": "code",
      "execution_count": null,
      "metadata": {
        "colab": {
          "base_uri": "https://localhost:8080/"
        },
        "id": "2ec9ac3b",
        "outputId": "39b29bfe-4737-4fcc-d65b-1b9b2e6f1c42"
      },
      "outputs": [
        {
          "output_type": "execute_result",
          "data": {
            "text/plain": [
              "f    3479\n",
              "t     143\n",
              "Name: sick, dtype: int64"
            ]
          },
          "metadata": {},
          "execution_count": 479
        }
      ],
      "source": [
        "df['sick'].value_counts()"
      ],
      "id": "2ec9ac3b"
    },
    {
      "cell_type": "code",
      "execution_count": null,
      "metadata": {
        "colab": {
          "base_uri": "https://localhost:8080/"
        },
        "id": "ddb2f862",
        "outputId": "b6aeeebf-0214-463b-afbb-3fd869ed9fdb"
      },
      "outputs": [
        {
          "output_type": "execute_result",
          "data": {
            "text/plain": [
              "f    3571\n",
              "t      51\n",
              "Name: pregnant, dtype: int64"
            ]
          },
          "metadata": {},
          "execution_count": 480
        }
      ],
      "source": [
        "df['pregnant'].value_counts()"
      ],
      "id": "ddb2f862"
    },
    {
      "cell_type": "code",
      "execution_count": null,
      "metadata": {
        "id": "3a8ed4b0"
      },
      "outputs": [],
      "source": [
        "columns = ['sick','pregnant','thyroid surgery','I131 treatment','query hypothyroid','query hyperthyroid','lithium','goitre', 'tumor', 'hypopituitary', 'psych', 'TSH measured', 'T3 measured', 'TT4 measured', 'TT4 measured', 'T4U measured', 'FTI measured', 'TBG measured', 'referral source']"
      ],
      "id": "3a8ed4b0"
    },
    {
      "cell_type": "code",
      "execution_count": null,
      "metadata": {
        "colab": {
          "base_uri": "https://localhost:8080/"
        },
        "id": "69961283",
        "outputId": "10343b9e-d428-48e7-f97f-c473becdd57e"
      },
      "outputs": [
        {
          "output_type": "stream",
          "name": "stdout",
          "text": [
            "sick\n",
            "f    3479\n",
            "t     143\n",
            "Name: sick, dtype: int64\n",
            " \n",
            "pregnant\n",
            "f    3571\n",
            "t      51\n",
            "Name: pregnant, dtype: int64\n",
            " \n",
            "thyroid surgery\n",
            "f    3570\n",
            "t      52\n",
            "Name: thyroid surgery, dtype: int64\n",
            " \n",
            "I131 treatment\n",
            "f    3567\n",
            "t      55\n",
            "Name: I131 treatment, dtype: int64\n",
            " \n",
            "query hypothyroid\n",
            "f    3393\n",
            "t     229\n",
            "Name: query hypothyroid, dtype: int64\n",
            " \n",
            "query hyperthyroid\n",
            "f    3393\n",
            "t     229\n",
            "Name: query hyperthyroid, dtype: int64\n",
            " \n",
            "lithium\n",
            "f    3604\n",
            "t      18\n",
            "Name: lithium, dtype: int64\n",
            " \n",
            "goitre\n",
            "f    3588\n",
            "t      34\n",
            "Name: goitre, dtype: int64\n",
            " \n",
            "tumor\n",
            "f    3528\n",
            "t      94\n",
            "Name: tumor, dtype: int64\n",
            " \n",
            "hypopituitary\n",
            "f    3621\n",
            "t       1\n",
            "Name: hypopituitary, dtype: int64\n",
            " \n",
            "psych\n",
            "f    3443\n",
            "t     179\n",
            "Name: psych, dtype: int64\n",
            " \n",
            "TSH measured\n",
            "t    3270\n",
            "f     352\n",
            "Name: TSH measured, dtype: int64\n",
            " \n",
            "T3 measured\n",
            "t    2877\n",
            "f     745\n",
            "Name: T3 measured, dtype: int64\n",
            " \n",
            "TT4 measured\n",
            "t    3405\n",
            "f     217\n",
            "Name: TT4 measured, dtype: int64\n",
            " \n",
            "TT4 measured\n",
            "t    3405\n",
            "f     217\n",
            "Name: TT4 measured, dtype: int64\n",
            " \n",
            "T4U measured\n",
            "t    3255\n",
            "f     367\n",
            "Name: T4U measured, dtype: int64\n",
            " \n",
            "FTI measured\n",
            "t    3257\n",
            "f     365\n",
            "Name: FTI measured, dtype: int64\n",
            " \n",
            "TBG measured\n",
            "f    3622\n",
            "Name: TBG measured, dtype: int64\n",
            " \n",
            "referral source\n",
            "other    2111\n",
            "SVI      1004\n",
            "SVHC      375\n",
            "STMW       95\n",
            "SVHD       37\n",
            "Name: referral source, dtype: int64\n",
            " \n"
          ]
        }
      ],
      "source": [
        "for i in columns:\n",
        "    print(i)\n",
        "    print(df[i].value_counts())\n",
        "    print(\" \")"
      ],
      "id": "69961283"
    },
    {
      "cell_type": "code",
      "execution_count": null,
      "metadata": {
        "colab": {
          "base_uri": "https://localhost:8080/"
        },
        "id": "830b3b09",
        "outputId": "98f9ae7b-b2d8-4412-b390-8f42dc6b5726"
      },
      "outputs": [
        {
          "output_type": "execute_result",
          "data": {
            "text/plain": [
              "Index(['age', 'gender', 'on thyroxine', 'query on thyroxine',\n",
              "       'on antithyroid medication', 'sick', 'pregnant', 'thyroid surgery',\n",
              "       'I131 treatment', 'query hypothyroid', 'query hyperthyroid', 'lithium',\n",
              "       'goitre', 'tumor', 'hypopituitary', 'psych', 'TSH measured', 'TSH',\n",
              "       'T3 measured', 'T3', 'TT4 measured', 'TT4', 'T4U measured', 'T4U',\n",
              "       'FTI measured', 'FTI', 'TBG measured', 'TBG', 'referral source',\n",
              "       'binaryClass'],\n",
              "      dtype='object')"
            ]
          },
          "metadata": {},
          "execution_count": 483
        }
      ],
      "source": [
        "df.columns"
      ],
      "id": "830b3b09"
    },
    {
      "cell_type": "code",
      "execution_count": null,
      "metadata": {
        "id": "3507fecd"
      },
      "outputs": [],
      "source": [
        "col = ['T3','TT4','T4U','FTI','TBG','TSH']"
      ],
      "id": "3507fecd"
    },
    {
      "cell_type": "code",
      "execution_count": null,
      "metadata": {
        "colab": {
          "base_uri": "https://localhost:8080/"
        },
        "id": "580010d7",
        "outputId": "a2083a0c-90cc-459f-9e0e-c71bfdeea2eb"
      },
      "outputs": [
        {
          "output_type": "stream",
          "name": "stdout",
          "text": [
            "T3\n",
            "['2.5' '2' '?' '1.9' '1.2' '0.6' '2.2' '1.6' '3.8' '1.7' '1.8' '2.6' '2.1'\n",
            " '0.3' '5.5' '1.4' '3.1' '1.5' '2.3' '2.4' '2.7' '0.9' '1' '2.8' '2.9'\n",
            " '0.8' '1.3' '0.4' '3.5' '3.4' '1.1' '4.2' '3.7' '3' '0.7' '4.8' '4.3'\n",
            " '0.05' '3.2' '5.4' '4' '0.5' '0.2' '3.6' '3.3' '5.2' '6' '5' '5.3' '3.9'\n",
            " '4.6' '4.5' '7.3' '4.7' '6.7' '4.1' '6.1' '0.1' '4.9' '10.6' '5.1' '7'\n",
            " '6.2' '4.4' '7.1' '8.5' '1.44' '7.6' '5.7' '6.6']\n",
            " \n",
            "TT4\n",
            "['125' '102' '109' '175' '61' '183' '72' '80' '123' '83' '115' '152' '171'\n",
            " '97' '99' '117' '121' '130' '108' '104' '134' '199' '57' '129' '113'\n",
            " '119' '84' '81' '95' '66' '101' '147' '120' '69' '?' '39' '87' '63' '133'\n",
            " '86' '162' '103' '96' '151' '112' '82' '71' '77' '107' '110' '67' '160'\n",
            " '118' '136' '114' '116' '161' '11' '32' '124' '137' '135' '105' '150'\n",
            " '126' '146' '91' '70' '217' '93' '141' '159' '122' '100' '111' '140'\n",
            " '205' '225' '85' '90' '74' '219' '127' '132' '128' '106' '144' '131' '56'\n",
            " '79' '142' '98' '177' '139' '94' '78' '189' '180' '88' '92' '73' '145'\n",
            " '184' '38' '163' '156' '75' '148' '14' '76' '54' '58' '27' '65' '193'\n",
            " '13' '143' '12' '64' '257' '164' '59' '167' '138' '18' '41' '176' '37'\n",
            " '33' '44' '45' '154' '174' '203' '62' '158' '60' '187' '250' '181' '157'\n",
            " '223' '272' '166' '213' '235' '10' '68' '231' '191' '48' '5.8' '169'\n",
            " '149' '210' '40' '155' '232' '42' '204' '430' '198' '230' '15' '170'\n",
            " '165' '47' '168' '194' '89' '52' '179' '192' '172' '4.8' '50' '182' '197'\n",
            " '214' '246' '196' '207' '19' '153' '22' '46' '200' '35' '226' '201' '233'\n",
            " '206' '31' '255' '178' '239' '195' '36' '2' '3' '289' '240' '209' '43'\n",
            " '252' '29' '263' '301' '23' '188' '211' '253' '21' '261' '248' '51' '25'\n",
            " '53' '17' '220' '256' '244' '9.5' '273' '222' '186' '49' '372' '16' '28'\n",
            " '24' '4' '30' '2.9' '55' '216' '258']\n",
            " \n",
            "T4U\n",
            "['1.14' '?' '0.91' '0.87' '1.3' '0.92' '0.7' '0.93' '0.89' '0.95' '0.99'\n",
            " '1.13' '0.96' '0.94' '0.86' '0.9' '1.02' '1.05' '0.62' '1.06' '1.55'\n",
            " '0.83' '1.09' '1.07' '1.27' '0.76' '1.16' '1' '0.56' '0.81' '0.68' '0.78'\n",
            " '0.85' '1.35' '1.15' '0.82' '1.03' '0.79' '0.71' '0.88' '1.11' '1.2'\n",
            " '1.1' '1.33' '0.77' '1.24' '0.53' '1.44' '1.63' '1.51' '1.42' '0.72'\n",
            " '1.01' '0.98' '0.61' '1.12' '1.43' '1.25' '1.41' '1.68' '0.97' '0.84'\n",
            " '0.8' '1.04' '0.73' '1.08' '1.26' '1.46' '1.29' '1.34' '1.66' '1.21'\n",
            " '1.23' '1.19' '0.75' '0.52' '1.83' '1.39' '1.5' '1.93' '1.18' '0.74'\n",
            " '1.17' '0.58' '1.82' '0.6' '1.67' '1.22' '0.66' '1.31' '0.54' '1.77'\n",
            " '1.59' '1.97' '1.69' '1.38' '1.28' '1.4' '0.69' '0.65' '1.74' '2.03'\n",
            " '1.73' '1.65' '1.36' '1.52' '0.57' '1.53' '1.58' '1.84' '1.57' '1.75'\n",
            " '1.32' '1.37' '0.64' '1.79' '1.8' '0.48' '1.71' '1.62' '1.76' '1.56'\n",
            " '1.48' '0.59' '0.31' '1.94' '2.12' '1.47' '0.63' '0.944' '0.49' '0.67'\n",
            " '1.88' '0.5' '1.49' '0.41' '1.61' '1.7' '2.32' '0.46' '1.45' '1.54'\n",
            " '0.47' '0.36' '2.01' '0.25']\n",
            " \n",
            "FTI\n",
            "['109' '?' '120' '70' '141' '78' '115' '132' '93' '121' '153' '151' '107'\n",
            " '119' '87' '104' '130' '106' '116' '131' '190' '92' '102' '76' '98' '90'\n",
            " '61' '94' '129' '95' '91' '33' '113' '148' '140' '171' '186' '122' '136'\n",
            " '110' '111' '97' '72' '100' '81' '67' '84' '103' '135' '112' '117' '180'\n",
            " '142' '145' '156' '134' '8.9' '60' '139' '41' '89' '146' '124' '85' '157'\n",
            " '88' '143' '71' '221' '28' '108' '137' '83' '74' '105' '96' '99' '170'\n",
            " '65' '101' '127' '274' '154' '114' '62' '86' '126' '125' '64' '172' '162'\n",
            " '79' '118' '155' '73' '152' '163' '149' '14' '51' '165' '77' '32' '69'\n",
            " '80' '11' '54' '164' '123' '144' '10' '214' '200' '160' '53' '16' '138'\n",
            " '169' '56' '47' '133' '43' '68' '179' '224' '220' '82' '182' '75' '66'\n",
            " '161' '57' '58' '312' '63' '128' '147' '158' '281' '207' '216' '251'\n",
            " '194' '46' '7' '42' '174' '395' '185' '13' '48' '173' '167' '188' '150'\n",
            " '235' '175' '159' '5.4' '189' '59' '166' '34' '228' '232' '217' '177'\n",
            " '176' '195' '219' '17' '210' '168' '205' '39' '187' '50' '349' '52' '206'\n",
            " '253' '242' '244' '178' '247' '215' '198' '19' '237' '37' '24' '2' '3'\n",
            " '191' '223' '9' '222' '204' '26' '218' '197' '49' '209' '183' '265' '203'\n",
            " '199' '196' '20' '213' '283' '36' '249' '8.4' '291' '55' '245' '18' '40'\n",
            " '8.5' '4' '21' '280' '2.8' '9.1' '27' '15' '35' '227']\n",
            " \n",
            "TBG\n",
            "['?']\n",
            " \n",
            "TSH\n",
            "['1.3' '4.1' '0.98' '0.16' '0.72' '0.03' '?' '2.2' '0.6' '2.4' '1.1' '2.8'\n",
            " '3.3' '12' '1.5' '6' '2.1' '0.1' '0.8' '1.9' '3.1' '0.2' '13' '0.3'\n",
            " '0.035' '2.5' '0.5' '1.7' '7.3' '1.8' '0.26' '45' '5.4' '0.99' '0.25'\n",
            " '0.92' '0.15' '0.64' '1' '0.4' '2' '2.6' '14.8' '15' '19' '3' '3.2' '1.6'\n",
            " '0.005' '0.31' '0.61' '0.05' '160' '0.025' '4.3' '1.4' '151' '0.04' '3.9'\n",
            " '0.02' '9.4' '7.8' '2.7' '2.3' '0.94' '0.045' '3.5' '0.88' '0.01' '0.08'\n",
            " '4.5' '0.68' '0.7' '27' '1.2' '6.1' '0.75' '0.55' '26' '5.2' '0.77'\n",
            " '0.07' '0.9' '11.4' '143' '0.45' '0.57' '0.65' '0.015' '16' '108' '9'\n",
            " '0.83' '9.2' '2.9' '86' '0.62' '0.59' '9.1' '5.9' '52' '0.33' '31' '0.28'\n",
            " '51' '6.3' '4.4' '9.6' '3.4' '0.09' '24' '0.76' '42' '25' '10' '4.6'\n",
            " '8.6' '0.66' '6.2' '0.79' '0.86' '9.7' '0.84' '28' '17' '18' '55' '14'\n",
            " '3.7' '6.7' '0.74' '7.6' '0.065' '0.29' '0.37' '8' '11' '0.48' '44' '7.9'\n",
            " '5' '7.2' '0.89' '0.93' '0.97' '0.12' '6.4' '33' '0.85' '7.1' '0.73'\n",
            " '199' '8.2' '188' '0.22' '98' '6.6' '5.1' '0.06' '0.42' '3.8' '35' '4'\n",
            " '0.78' '0.63' '0.52' '60' '0.43' '0.87' '5.6' '6.9' '22' '3.6' '29'\n",
            " '0.38' '4.9' '0.41' '9.9' '7.5' '34' '6.5' '4.7' '103' '0.95' '0.35'\n",
            " '4.2' '0.67' '0.81' '0.54' '0.58' '8.9' '5.5' '0.34' '9.3' '0.13' '54'\n",
            " '0.39' '8.3' '478' '21' '6.8' '0.32' '0.23' '0.24' '8.1' '0.91' '5.3'\n",
            " '100' '0.27' '1.01' '58' '41' '183' '18.4' '0.47' '0.17' '0.19' '0.82'\n",
            " '43' '0.44' '70' '7.7' '8.4' '0.69' '8.5' '0.21' '82' '0.055' '0.96'\n",
            " '0.71' '38' '0.36' '9.8' '7' '0.46' '11.1' '39' '76' '5.7' '32' '126'\n",
            " '5.8' '26.4' '0.53' '0.49' '178' '145' '47' '36' '8.8' '4.8' '10.3' '89'\n",
            " '7.4' '0.51' '116' '0.14' '61' '99' '46' '78' '468' '14.4' '165' '9.5'\n",
            " '80' '0.56' '30.5' '20' '0.18' '50' '236' '23' '440' '139' '530' '109'\n",
            " '30' '400' '1.02' '230' '5.73' '66' '65' '117' '40']\n",
            " \n"
          ]
        }
      ],
      "source": [
        "for i in col:\n",
        "    print(i)\n",
        "    print(df[i].unique())\n",
        "    print(\" \")"
      ],
      "id": "580010d7"
    },
    {
      "cell_type": "code",
      "execution_count": null,
      "metadata": {
        "id": "d5b22f92"
      },
      "outputs": [],
      "source": [
        "df = df[(df['TSH']!='?') & (df['FTI']!='?') & (df['T4U']!='?') & (df['TT4']!='?') & (df['T3']!='?')]"
      ],
      "id": "d5b22f92"
    },
    {
      "cell_type": "code",
      "execution_count": null,
      "metadata": {
        "id": "bfbd4f44"
      },
      "outputs": [],
      "source": [
        "col = ['T3','TT4','T4U','FTI','TSH']"
      ],
      "id": "bfbd4f44"
    },
    {
      "cell_type": "code",
      "execution_count": null,
      "metadata": {
        "colab": {
          "base_uri": "https://localhost:8080/"
        },
        "id": "f1cb5120",
        "outputId": "85072dc6-66db-4af0-8e67-8be8f952def8"
      },
      "outputs": [
        {
          "output_type": "stream",
          "name": "stderr",
          "text": [
            "<ipython-input-488-62a2effa985c>:2: SettingWithCopyWarning: \n",
            "A value is trying to be set on a copy of a slice from a DataFrame.\n",
            "Try using .loc[row_indexer,col_indexer] = value instead\n",
            "\n",
            "See the caveats in the documentation: https://pandas.pydata.org/pandas-docs/stable/user_guide/indexing.html#returning-a-view-versus-a-copy\n",
            "  df[i] = pd.to_numeric(df[i])\n"
          ]
        }
      ],
      "source": [
        "for i in col:\n",
        "    df[i] = pd.to_numeric(df[i])"
      ],
      "id": "f1cb5120"
    },
    {
      "cell_type": "code",
      "execution_count": null,
      "metadata": {
        "colab": {
          "base_uri": "https://localhost:8080/"
        },
        "id": "f8501077",
        "outputId": "9e15b4db-8c21-4bbd-d962-2b2677e305c0"
      },
      "outputs": [
        {
          "output_type": "stream",
          "name": "stderr",
          "text": [
            "<ipython-input-489-53064dff6002>:1: SettingWithCopyWarning: \n",
            "A value is trying to be set on a copy of a slice from a DataFrame\n",
            "\n",
            "See the caveats in the documentation: https://pandas.pydata.org/pandas-docs/stable/user_guide/indexing.html#returning-a-view-versus-a-copy\n",
            "  df.drop('TBG',axis=1,inplace=True)\n"
          ]
        }
      ],
      "source": [
        "df.drop('TBG',axis=1,inplace=True)\n"
      ],
      "id": "f8501077"
    },
    {
      "cell_type": "code",
      "execution_count": null,
      "metadata": {
        "colab": {
          "base_uri": "https://localhost:8080/",
          "height": 334
        },
        "id": "9ccc19d5",
        "outputId": "34e6f63f-22f4-4f12-eb0c-86735bb5b1bd"
      },
      "outputs": [
        {
          "output_type": "execute_result",
          "data": {
            "text/plain": [
              "  age gender on thyroxine query on thyroxine on antithyroid medication sick  \\\n",
              "0  41      F            f                  f                         f    f   \n",
              "4  70      F            f                  f                         f    f   \n",
              "7  80      F            f                  f                         f    f   \n",
              "8  66      F            f                  f                         f    f   \n",
              "9  68      M            f                  f                         f    f   \n",
              "\n",
              "  pregnant thyroid surgery I131 treatment query hypothyroid  ...   T3  \\\n",
              "0        f               f              f                 f  ...  2.5   \n",
              "4        f               f              f                 f  ...  1.2   \n",
              "7        f               f              f                 f  ...  0.6   \n",
              "8        f               f              f                 f  ...  2.2   \n",
              "9        f               f              f                 f  ...  1.6   \n",
              "\n",
              "  TT4 measured    TT4 T4U measured   T4U FTI measured    FTI  TBG measured  \\\n",
              "0            t  125.0            t  1.14            t  109.0             f   \n",
              "4            t   61.0            t  0.87            t   70.0             f   \n",
              "7            t   80.0            t  0.70            t  115.0             f   \n",
              "8            t  123.0            t  0.93            t  132.0             f   \n",
              "9            t   83.0            t  0.89            t   93.0             f   \n",
              "\n",
              "  referral source  binaryClass  \n",
              "0            SVHC            P  \n",
              "4             SVI            P  \n",
              "7             SVI            P  \n",
              "8             SVI            P  \n",
              "9             SVI            P  \n",
              "\n",
              "[5 rows x 29 columns]"
            ],
            "text/html": [
              "\n",
              "  <div id=\"df-2b2ff668-3a82-4b2a-bac2-4409faa2eb1e\">\n",
              "    <div class=\"colab-df-container\">\n",
              "      <div>\n",
              "<style scoped>\n",
              "    .dataframe tbody tr th:only-of-type {\n",
              "        vertical-align: middle;\n",
              "    }\n",
              "\n",
              "    .dataframe tbody tr th {\n",
              "        vertical-align: top;\n",
              "    }\n",
              "\n",
              "    .dataframe thead th {\n",
              "        text-align: right;\n",
              "    }\n",
              "</style>\n",
              "<table border=\"1\" class=\"dataframe\">\n",
              "  <thead>\n",
              "    <tr style=\"text-align: right;\">\n",
              "      <th></th>\n",
              "      <th>age</th>\n",
              "      <th>gender</th>\n",
              "      <th>on thyroxine</th>\n",
              "      <th>query on thyroxine</th>\n",
              "      <th>on antithyroid medication</th>\n",
              "      <th>sick</th>\n",
              "      <th>pregnant</th>\n",
              "      <th>thyroid surgery</th>\n",
              "      <th>I131 treatment</th>\n",
              "      <th>query hypothyroid</th>\n",
              "      <th>...</th>\n",
              "      <th>T3</th>\n",
              "      <th>TT4 measured</th>\n",
              "      <th>TT4</th>\n",
              "      <th>T4U measured</th>\n",
              "      <th>T4U</th>\n",
              "      <th>FTI measured</th>\n",
              "      <th>FTI</th>\n",
              "      <th>TBG measured</th>\n",
              "      <th>referral source</th>\n",
              "      <th>binaryClass</th>\n",
              "    </tr>\n",
              "  </thead>\n",
              "  <tbody>\n",
              "    <tr>\n",
              "      <th>0</th>\n",
              "      <td>41</td>\n",
              "      <td>F</td>\n",
              "      <td>f</td>\n",
              "      <td>f</td>\n",
              "      <td>f</td>\n",
              "      <td>f</td>\n",
              "      <td>f</td>\n",
              "      <td>f</td>\n",
              "      <td>f</td>\n",
              "      <td>f</td>\n",
              "      <td>...</td>\n",
              "      <td>2.5</td>\n",
              "      <td>t</td>\n",
              "      <td>125.0</td>\n",
              "      <td>t</td>\n",
              "      <td>1.14</td>\n",
              "      <td>t</td>\n",
              "      <td>109.0</td>\n",
              "      <td>f</td>\n",
              "      <td>SVHC</td>\n",
              "      <td>P</td>\n",
              "    </tr>\n",
              "    <tr>\n",
              "      <th>4</th>\n",
              "      <td>70</td>\n",
              "      <td>F</td>\n",
              "      <td>f</td>\n",
              "      <td>f</td>\n",
              "      <td>f</td>\n",
              "      <td>f</td>\n",
              "      <td>f</td>\n",
              "      <td>f</td>\n",
              "      <td>f</td>\n",
              "      <td>f</td>\n",
              "      <td>...</td>\n",
              "      <td>1.2</td>\n",
              "      <td>t</td>\n",
              "      <td>61.0</td>\n",
              "      <td>t</td>\n",
              "      <td>0.87</td>\n",
              "      <td>t</td>\n",
              "      <td>70.0</td>\n",
              "      <td>f</td>\n",
              "      <td>SVI</td>\n",
              "      <td>P</td>\n",
              "    </tr>\n",
              "    <tr>\n",
              "      <th>7</th>\n",
              "      <td>80</td>\n",
              "      <td>F</td>\n",
              "      <td>f</td>\n",
              "      <td>f</td>\n",
              "      <td>f</td>\n",
              "      <td>f</td>\n",
              "      <td>f</td>\n",
              "      <td>f</td>\n",
              "      <td>f</td>\n",
              "      <td>f</td>\n",
              "      <td>...</td>\n",
              "      <td>0.6</td>\n",
              "      <td>t</td>\n",
              "      <td>80.0</td>\n",
              "      <td>t</td>\n",
              "      <td>0.70</td>\n",
              "      <td>t</td>\n",
              "      <td>115.0</td>\n",
              "      <td>f</td>\n",
              "      <td>SVI</td>\n",
              "      <td>P</td>\n",
              "    </tr>\n",
              "    <tr>\n",
              "      <th>8</th>\n",
              "      <td>66</td>\n",
              "      <td>F</td>\n",
              "      <td>f</td>\n",
              "      <td>f</td>\n",
              "      <td>f</td>\n",
              "      <td>f</td>\n",
              "      <td>f</td>\n",
              "      <td>f</td>\n",
              "      <td>f</td>\n",
              "      <td>f</td>\n",
              "      <td>...</td>\n",
              "      <td>2.2</td>\n",
              "      <td>t</td>\n",
              "      <td>123.0</td>\n",
              "      <td>t</td>\n",
              "      <td>0.93</td>\n",
              "      <td>t</td>\n",
              "      <td>132.0</td>\n",
              "      <td>f</td>\n",
              "      <td>SVI</td>\n",
              "      <td>P</td>\n",
              "    </tr>\n",
              "    <tr>\n",
              "      <th>9</th>\n",
              "      <td>68</td>\n",
              "      <td>M</td>\n",
              "      <td>f</td>\n",
              "      <td>f</td>\n",
              "      <td>f</td>\n",
              "      <td>f</td>\n",
              "      <td>f</td>\n",
              "      <td>f</td>\n",
              "      <td>f</td>\n",
              "      <td>f</td>\n",
              "      <td>...</td>\n",
              "      <td>1.6</td>\n",
              "      <td>t</td>\n",
              "      <td>83.0</td>\n",
              "      <td>t</td>\n",
              "      <td>0.89</td>\n",
              "      <td>t</td>\n",
              "      <td>93.0</td>\n",
              "      <td>f</td>\n",
              "      <td>SVI</td>\n",
              "      <td>P</td>\n",
              "    </tr>\n",
              "  </tbody>\n",
              "</table>\n",
              "<p>5 rows × 29 columns</p>\n",
              "</div>\n",
              "      <button class=\"colab-df-convert\" onclick=\"convertToInteractive('df-2b2ff668-3a82-4b2a-bac2-4409faa2eb1e')\"\n",
              "              title=\"Convert this dataframe to an interactive table.\"\n",
              "              style=\"display:none;\">\n",
              "        \n",
              "  <svg xmlns=\"http://www.w3.org/2000/svg\" height=\"24px\"viewBox=\"0 0 24 24\"\n",
              "       width=\"24px\">\n",
              "    <path d=\"M0 0h24v24H0V0z\" fill=\"none\"/>\n",
              "    <path d=\"M18.56 5.44l.94 2.06.94-2.06 2.06-.94-2.06-.94-.94-2.06-.94 2.06-2.06.94zm-11 1L8.5 8.5l.94-2.06 2.06-.94-2.06-.94L8.5 2.5l-.94 2.06-2.06.94zm10 10l.94 2.06.94-2.06 2.06-.94-2.06-.94-.94-2.06-.94 2.06-2.06.94z\"/><path d=\"M17.41 7.96l-1.37-1.37c-.4-.4-.92-.59-1.43-.59-.52 0-1.04.2-1.43.59L10.3 9.45l-7.72 7.72c-.78.78-.78 2.05 0 2.83L4 21.41c.39.39.9.59 1.41.59.51 0 1.02-.2 1.41-.59l7.78-7.78 2.81-2.81c.8-.78.8-2.07 0-2.86zM5.41 20L4 18.59l7.72-7.72 1.47 1.35L5.41 20z\"/>\n",
              "  </svg>\n",
              "      </button>\n",
              "      \n",
              "  <style>\n",
              "    .colab-df-container {\n",
              "      display:flex;\n",
              "      flex-wrap:wrap;\n",
              "      gap: 12px;\n",
              "    }\n",
              "\n",
              "    .colab-df-convert {\n",
              "      background-color: #E8F0FE;\n",
              "      border: none;\n",
              "      border-radius: 50%;\n",
              "      cursor: pointer;\n",
              "      display: none;\n",
              "      fill: #1967D2;\n",
              "      height: 32px;\n",
              "      padding: 0 0 0 0;\n",
              "      width: 32px;\n",
              "    }\n",
              "\n",
              "    .colab-df-convert:hover {\n",
              "      background-color: #E2EBFA;\n",
              "      box-shadow: 0px 1px 2px rgba(60, 64, 67, 0.3), 0px 1px 3px 1px rgba(60, 64, 67, 0.15);\n",
              "      fill: #174EA6;\n",
              "    }\n",
              "\n",
              "    [theme=dark] .colab-df-convert {\n",
              "      background-color: #3B4455;\n",
              "      fill: #D2E3FC;\n",
              "    }\n",
              "\n",
              "    [theme=dark] .colab-df-convert:hover {\n",
              "      background-color: #434B5C;\n",
              "      box-shadow: 0px 1px 3px 1px rgba(0, 0, 0, 0.15);\n",
              "      filter: drop-shadow(0px 1px 2px rgba(0, 0, 0, 0.3));\n",
              "      fill: #FFFFFF;\n",
              "    }\n",
              "  </style>\n",
              "\n",
              "      <script>\n",
              "        const buttonEl =\n",
              "          document.querySelector('#df-2b2ff668-3a82-4b2a-bac2-4409faa2eb1e button.colab-df-convert');\n",
              "        buttonEl.style.display =\n",
              "          google.colab.kernel.accessAllowed ? 'block' : 'none';\n",
              "\n",
              "        async function convertToInteractive(key) {\n",
              "          const element = document.querySelector('#df-2b2ff668-3a82-4b2a-bac2-4409faa2eb1e');\n",
              "          const dataTable =\n",
              "            await google.colab.kernel.invokeFunction('convertToInteractive',\n",
              "                                                     [key], {});\n",
              "          if (!dataTable) return;\n",
              "\n",
              "          const docLinkHtml = 'Like what you see? Visit the ' +\n",
              "            '<a target=\"_blank\" href=https://colab.research.google.com/notebooks/data_table.ipynb>data table notebook</a>'\n",
              "            + ' to learn more about interactive tables.';\n",
              "          element.innerHTML = '';\n",
              "          dataTable['output_type'] = 'display_data';\n",
              "          await google.colab.output.renderOutput(dataTable, element);\n",
              "          const docLink = document.createElement('div');\n",
              "          docLink.innerHTML = docLinkHtml;\n",
              "          element.appendChild(docLink);\n",
              "        }\n",
              "      </script>\n",
              "    </div>\n",
              "  </div>\n",
              "  "
            ]
          },
          "metadata": {},
          "execution_count": 490
        }
      ],
      "source": [
        "df.head()"
      ],
      "id": "9ccc19d5"
    },
    {
      "cell_type": "code",
      "execution_count": null,
      "metadata": {
        "colab": {
          "base_uri": "https://localhost:8080/"
        },
        "id": "6976f7c1",
        "outputId": "e2e377ad-2b29-4d97-8e2b-469c280f0b8b"
      },
      "outputs": [
        {
          "output_type": "stream",
          "name": "stderr",
          "text": [
            "<ipython-input-491-d9c4e7e71a52>:1: SettingWithCopyWarning: \n",
            "A value is trying to be set on a copy of a slice from a DataFrame\n",
            "\n",
            "See the caveats in the documentation: https://pandas.pydata.org/pandas-docs/stable/user_guide/indexing.html#returning-a-view-versus-a-copy\n",
            "  df.drop('T3 measured',axis=1,inplace=True)\n"
          ]
        }
      ],
      "source": [
        "df.drop('T3 measured',axis=1,inplace=True)\n"
      ],
      "id": "6976f7c1"
    },
    {
      "cell_type": "code",
      "execution_count": null,
      "metadata": {
        "id": "b6d53a86"
      },
      "outputs": [],
      "source": [
        "df.drop('TBG measured',axis=1,inplace=True)\n"
      ],
      "id": "b6d53a86"
    },
    {
      "cell_type": "code",
      "execution_count": null,
      "metadata": {
        "id": "fa5c08ab"
      },
      "outputs": [],
      "source": [
        "df.drop('TT4 measured',axis=1,inplace=True)\n"
      ],
      "id": "fa5c08ab"
    },
    {
      "cell_type": "code",
      "execution_count": null,
      "metadata": {
        "id": "aa290a39"
      },
      "outputs": [],
      "source": [
        "df.drop('FTI measured',axis=1,inplace=True)\n"
      ],
      "id": "aa290a39"
    },
    {
      "cell_type": "code",
      "execution_count": null,
      "metadata": {
        "id": "65ef92ec"
      },
      "outputs": [],
      "source": [
        "df.drop('T4U measured',axis=1,inplace=True)\n"
      ],
      "id": "65ef92ec"
    },
    {
      "cell_type": "code",
      "execution_count": null,
      "metadata": {
        "id": "103d490a"
      },
      "outputs": [],
      "source": [
        "df.drop('TSH measured',axis=1,inplace=True)\n"
      ],
      "id": "103d490a"
    },
    {
      "cell_type": "code",
      "execution_count": null,
      "metadata": {
        "id": "df386857"
      },
      "outputs": [],
      "source": [
        "df.drop('query on thyroxine',axis=1,inplace=True)"
      ],
      "id": "df386857"
    },
    {
      "cell_type": "code",
      "execution_count": null,
      "metadata": {
        "colab": {
          "base_uri": "https://localhost:8080/",
          "height": 334
        },
        "id": "41f9b22c",
        "outputId": "25124c8f-49e1-4af7-a9c9-07b2b577d13d"
      },
      "outputs": [
        {
          "output_type": "execute_result",
          "data": {
            "text/plain": [
              "  age gender on thyroxine on antithyroid medication sick pregnant  \\\n",
              "0  41      F            f                         f    f        f   \n",
              "4  70      F            f                         f    f        f   \n",
              "7  80      F            f                         f    f        f   \n",
              "8  66      F            f                         f    f        f   \n",
              "9  68      M            f                         f    f        f   \n",
              "\n",
              "  thyroid surgery I131 treatment query hypothyroid query hyperthyroid  ...  \\\n",
              "0               f              f                 f                  f  ...   \n",
              "4               f              f                 f                  f  ...   \n",
              "7               f              f                 f                  f  ...   \n",
              "8               f              f                 f                  f  ...   \n",
              "9               f              f                 f                  f  ...   \n",
              "\n",
              "  tumor hypopituitary psych   TSH   T3    TT4   T4U    FTI  referral source  \\\n",
              "0     f             f     f  1.30  2.5  125.0  1.14  109.0             SVHC   \n",
              "4     f             f     f  0.72  1.2   61.0  0.87   70.0              SVI   \n",
              "7     f             f     f  2.20  0.6   80.0  0.70  115.0              SVI   \n",
              "8     t             f     f  0.60  2.2  123.0  0.93  132.0              SVI   \n",
              "9     f             f     f  2.40  1.6   83.0  0.89   93.0              SVI   \n",
              "\n",
              "   binaryClass  \n",
              "0            P  \n",
              "4            P  \n",
              "7            P  \n",
              "8            P  \n",
              "9            P  \n",
              "\n",
              "[5 rows x 22 columns]"
            ],
            "text/html": [
              "\n",
              "  <div id=\"df-11e11214-4cc4-4db0-8efc-54e79d8b0ccd\">\n",
              "    <div class=\"colab-df-container\">\n",
              "      <div>\n",
              "<style scoped>\n",
              "    .dataframe tbody tr th:only-of-type {\n",
              "        vertical-align: middle;\n",
              "    }\n",
              "\n",
              "    .dataframe tbody tr th {\n",
              "        vertical-align: top;\n",
              "    }\n",
              "\n",
              "    .dataframe thead th {\n",
              "        text-align: right;\n",
              "    }\n",
              "</style>\n",
              "<table border=\"1\" class=\"dataframe\">\n",
              "  <thead>\n",
              "    <tr style=\"text-align: right;\">\n",
              "      <th></th>\n",
              "      <th>age</th>\n",
              "      <th>gender</th>\n",
              "      <th>on thyroxine</th>\n",
              "      <th>on antithyroid medication</th>\n",
              "      <th>sick</th>\n",
              "      <th>pregnant</th>\n",
              "      <th>thyroid surgery</th>\n",
              "      <th>I131 treatment</th>\n",
              "      <th>query hypothyroid</th>\n",
              "      <th>query hyperthyroid</th>\n",
              "      <th>...</th>\n",
              "      <th>tumor</th>\n",
              "      <th>hypopituitary</th>\n",
              "      <th>psych</th>\n",
              "      <th>TSH</th>\n",
              "      <th>T3</th>\n",
              "      <th>TT4</th>\n",
              "      <th>T4U</th>\n",
              "      <th>FTI</th>\n",
              "      <th>referral source</th>\n",
              "      <th>binaryClass</th>\n",
              "    </tr>\n",
              "  </thead>\n",
              "  <tbody>\n",
              "    <tr>\n",
              "      <th>0</th>\n",
              "      <td>41</td>\n",
              "      <td>F</td>\n",
              "      <td>f</td>\n",
              "      <td>f</td>\n",
              "      <td>f</td>\n",
              "      <td>f</td>\n",
              "      <td>f</td>\n",
              "      <td>f</td>\n",
              "      <td>f</td>\n",
              "      <td>f</td>\n",
              "      <td>...</td>\n",
              "      <td>f</td>\n",
              "      <td>f</td>\n",
              "      <td>f</td>\n",
              "      <td>1.30</td>\n",
              "      <td>2.5</td>\n",
              "      <td>125.0</td>\n",
              "      <td>1.14</td>\n",
              "      <td>109.0</td>\n",
              "      <td>SVHC</td>\n",
              "      <td>P</td>\n",
              "    </tr>\n",
              "    <tr>\n",
              "      <th>4</th>\n",
              "      <td>70</td>\n",
              "      <td>F</td>\n",
              "      <td>f</td>\n",
              "      <td>f</td>\n",
              "      <td>f</td>\n",
              "      <td>f</td>\n",
              "      <td>f</td>\n",
              "      <td>f</td>\n",
              "      <td>f</td>\n",
              "      <td>f</td>\n",
              "      <td>...</td>\n",
              "      <td>f</td>\n",
              "      <td>f</td>\n",
              "      <td>f</td>\n",
              "      <td>0.72</td>\n",
              "      <td>1.2</td>\n",
              "      <td>61.0</td>\n",
              "      <td>0.87</td>\n",
              "      <td>70.0</td>\n",
              "      <td>SVI</td>\n",
              "      <td>P</td>\n",
              "    </tr>\n",
              "    <tr>\n",
              "      <th>7</th>\n",
              "      <td>80</td>\n",
              "      <td>F</td>\n",
              "      <td>f</td>\n",
              "      <td>f</td>\n",
              "      <td>f</td>\n",
              "      <td>f</td>\n",
              "      <td>f</td>\n",
              "      <td>f</td>\n",
              "      <td>f</td>\n",
              "      <td>f</td>\n",
              "      <td>...</td>\n",
              "      <td>f</td>\n",
              "      <td>f</td>\n",
              "      <td>f</td>\n",
              "      <td>2.20</td>\n",
              "      <td>0.6</td>\n",
              "      <td>80.0</td>\n",
              "      <td>0.70</td>\n",
              "      <td>115.0</td>\n",
              "      <td>SVI</td>\n",
              "      <td>P</td>\n",
              "    </tr>\n",
              "    <tr>\n",
              "      <th>8</th>\n",
              "      <td>66</td>\n",
              "      <td>F</td>\n",
              "      <td>f</td>\n",
              "      <td>f</td>\n",
              "      <td>f</td>\n",
              "      <td>f</td>\n",
              "      <td>f</td>\n",
              "      <td>f</td>\n",
              "      <td>f</td>\n",
              "      <td>f</td>\n",
              "      <td>...</td>\n",
              "      <td>t</td>\n",
              "      <td>f</td>\n",
              "      <td>f</td>\n",
              "      <td>0.60</td>\n",
              "      <td>2.2</td>\n",
              "      <td>123.0</td>\n",
              "      <td>0.93</td>\n",
              "      <td>132.0</td>\n",
              "      <td>SVI</td>\n",
              "      <td>P</td>\n",
              "    </tr>\n",
              "    <tr>\n",
              "      <th>9</th>\n",
              "      <td>68</td>\n",
              "      <td>M</td>\n",
              "      <td>f</td>\n",
              "      <td>f</td>\n",
              "      <td>f</td>\n",
              "      <td>f</td>\n",
              "      <td>f</td>\n",
              "      <td>f</td>\n",
              "      <td>f</td>\n",
              "      <td>f</td>\n",
              "      <td>...</td>\n",
              "      <td>f</td>\n",
              "      <td>f</td>\n",
              "      <td>f</td>\n",
              "      <td>2.40</td>\n",
              "      <td>1.6</td>\n",
              "      <td>83.0</td>\n",
              "      <td>0.89</td>\n",
              "      <td>93.0</td>\n",
              "      <td>SVI</td>\n",
              "      <td>P</td>\n",
              "    </tr>\n",
              "  </tbody>\n",
              "</table>\n",
              "<p>5 rows × 22 columns</p>\n",
              "</div>\n",
              "      <button class=\"colab-df-convert\" onclick=\"convertToInteractive('df-11e11214-4cc4-4db0-8efc-54e79d8b0ccd')\"\n",
              "              title=\"Convert this dataframe to an interactive table.\"\n",
              "              style=\"display:none;\">\n",
              "        \n",
              "  <svg xmlns=\"http://www.w3.org/2000/svg\" height=\"24px\"viewBox=\"0 0 24 24\"\n",
              "       width=\"24px\">\n",
              "    <path d=\"M0 0h24v24H0V0z\" fill=\"none\"/>\n",
              "    <path d=\"M18.56 5.44l.94 2.06.94-2.06 2.06-.94-2.06-.94-.94-2.06-.94 2.06-2.06.94zm-11 1L8.5 8.5l.94-2.06 2.06-.94-2.06-.94L8.5 2.5l-.94 2.06-2.06.94zm10 10l.94 2.06.94-2.06 2.06-.94-2.06-.94-.94-2.06-.94 2.06-2.06.94z\"/><path d=\"M17.41 7.96l-1.37-1.37c-.4-.4-.92-.59-1.43-.59-.52 0-1.04.2-1.43.59L10.3 9.45l-7.72 7.72c-.78.78-.78 2.05 0 2.83L4 21.41c.39.39.9.59 1.41.59.51 0 1.02-.2 1.41-.59l7.78-7.78 2.81-2.81c.8-.78.8-2.07 0-2.86zM5.41 20L4 18.59l7.72-7.72 1.47 1.35L5.41 20z\"/>\n",
              "  </svg>\n",
              "      </button>\n",
              "      \n",
              "  <style>\n",
              "    .colab-df-container {\n",
              "      display:flex;\n",
              "      flex-wrap:wrap;\n",
              "      gap: 12px;\n",
              "    }\n",
              "\n",
              "    .colab-df-convert {\n",
              "      background-color: #E8F0FE;\n",
              "      border: none;\n",
              "      border-radius: 50%;\n",
              "      cursor: pointer;\n",
              "      display: none;\n",
              "      fill: #1967D2;\n",
              "      height: 32px;\n",
              "      padding: 0 0 0 0;\n",
              "      width: 32px;\n",
              "    }\n",
              "\n",
              "    .colab-df-convert:hover {\n",
              "      background-color: #E2EBFA;\n",
              "      box-shadow: 0px 1px 2px rgba(60, 64, 67, 0.3), 0px 1px 3px 1px rgba(60, 64, 67, 0.15);\n",
              "      fill: #174EA6;\n",
              "    }\n",
              "\n",
              "    [theme=dark] .colab-df-convert {\n",
              "      background-color: #3B4455;\n",
              "      fill: #D2E3FC;\n",
              "    }\n",
              "\n",
              "    [theme=dark] .colab-df-convert:hover {\n",
              "      background-color: #434B5C;\n",
              "      box-shadow: 0px 1px 3px 1px rgba(0, 0, 0, 0.15);\n",
              "      filter: drop-shadow(0px 1px 2px rgba(0, 0, 0, 0.3));\n",
              "      fill: #FFFFFF;\n",
              "    }\n",
              "  </style>\n",
              "\n",
              "      <script>\n",
              "        const buttonEl =\n",
              "          document.querySelector('#df-11e11214-4cc4-4db0-8efc-54e79d8b0ccd button.colab-df-convert');\n",
              "        buttonEl.style.display =\n",
              "          google.colab.kernel.accessAllowed ? 'block' : 'none';\n",
              "\n",
              "        async function convertToInteractive(key) {\n",
              "          const element = document.querySelector('#df-11e11214-4cc4-4db0-8efc-54e79d8b0ccd');\n",
              "          const dataTable =\n",
              "            await google.colab.kernel.invokeFunction('convertToInteractive',\n",
              "                                                     [key], {});\n",
              "          if (!dataTable) return;\n",
              "\n",
              "          const docLinkHtml = 'Like what you see? Visit the ' +\n",
              "            '<a target=\"_blank\" href=https://colab.research.google.com/notebooks/data_table.ipynb>data table notebook</a>'\n",
              "            + ' to learn more about interactive tables.';\n",
              "          element.innerHTML = '';\n",
              "          dataTable['output_type'] = 'display_data';\n",
              "          await google.colab.output.renderOutput(dataTable, element);\n",
              "          const docLink = document.createElement('div');\n",
              "          docLink.innerHTML = docLinkHtml;\n",
              "          element.appendChild(docLink);\n",
              "        }\n",
              "      </script>\n",
              "    </div>\n",
              "  </div>\n",
              "  "
            ]
          },
          "metadata": {},
          "execution_count": 498
        }
      ],
      "source": [
        "df.head()"
      ],
      "id": "41f9b22c"
    },
    {
      "cell_type": "markdown",
      "metadata": {
        "id": "ac0b43d9"
      },
      "source": [
        "# Converting Categorical Values to Numerical Values"
      ],
      "id": "ac0b43d9"
    },
    {
      "cell_type": "code",
      "execution_count": null,
      "metadata": {
        "id": "eb747ce4"
      },
      "outputs": [],
      "source": [
        "\n",
        "df = df.replace(\"f\", 0)\n",
        "df = df.replace(\"t\", 1)\n",
        "df = df.replace(\"F\", 0)\n",
        "df = df.replace(\"M\", 1)\n",
        "df = df.replace(\"P\", 1)\n",
        "df = df.replace(\"N\", 0)\n",
        "df = df.replace(\"F\", 0)\n",
        "df = df.replace(\"other\",0)\n",
        "df = df.replace(\"SVI\",1)\n",
        "df = df.replace(\"SVHC\",2)\n",
        "df = df.replace(\"STMW\",3)\n",
        "df = df.replace(\"SVHD\",4)\n",
        "\n"
      ],
      "id": "eb747ce4"
    },
    {
      "cell_type": "code",
      "execution_count": null,
      "metadata": {
        "colab": {
          "base_uri": "https://localhost:8080/",
          "height": 334
        },
        "id": "3c1ae60a",
        "outputId": "7a4f1ff6-d354-47f4-ac4f-081322a6c220"
      },
      "outputs": [
        {
          "output_type": "execute_result",
          "data": {
            "text/plain": [
              "  age  gender  on thyroxine  on antithyroid medication  sick  pregnant  \\\n",
              "0  41       0             0                          0     0         0   \n",
              "4  70       0             0                          0     0         0   \n",
              "7  80       0             0                          0     0         0   \n",
              "8  66       0             0                          0     0         0   \n",
              "9  68       1             0                          0     0         0   \n",
              "\n",
              "   thyroid surgery  I131 treatment  query hypothyroid  query hyperthyroid  \\\n",
              "0                0               0                  0                   0   \n",
              "4                0               0                  0                   0   \n",
              "7                0               0                  0                   0   \n",
              "8                0               0                  0                   0   \n",
              "9                0               0                  0                   0   \n",
              "\n",
              "   ...  tumor  hypopituitary  psych   TSH   T3    TT4   T4U    FTI  \\\n",
              "0  ...      0              0      0  1.30  2.5  125.0  1.14  109.0   \n",
              "4  ...      0              0      0  0.72  1.2   61.0  0.87   70.0   \n",
              "7  ...      0              0      0  2.20  0.6   80.0  0.70  115.0   \n",
              "8  ...      1              0      0  0.60  2.2  123.0  0.93  132.0   \n",
              "9  ...      0              0      0  2.40  1.6   83.0  0.89   93.0   \n",
              "\n",
              "   referral source  binaryClass  \n",
              "0                2            1  \n",
              "4                1            1  \n",
              "7                1            1  \n",
              "8                1            1  \n",
              "9                1            1  \n",
              "\n",
              "[5 rows x 22 columns]"
            ],
            "text/html": [
              "\n",
              "  <div id=\"df-dc132935-1736-47b7-bc65-ab024ca3d23d\">\n",
              "    <div class=\"colab-df-container\">\n",
              "      <div>\n",
              "<style scoped>\n",
              "    .dataframe tbody tr th:only-of-type {\n",
              "        vertical-align: middle;\n",
              "    }\n",
              "\n",
              "    .dataframe tbody tr th {\n",
              "        vertical-align: top;\n",
              "    }\n",
              "\n",
              "    .dataframe thead th {\n",
              "        text-align: right;\n",
              "    }\n",
              "</style>\n",
              "<table border=\"1\" class=\"dataframe\">\n",
              "  <thead>\n",
              "    <tr style=\"text-align: right;\">\n",
              "      <th></th>\n",
              "      <th>age</th>\n",
              "      <th>gender</th>\n",
              "      <th>on thyroxine</th>\n",
              "      <th>on antithyroid medication</th>\n",
              "      <th>sick</th>\n",
              "      <th>pregnant</th>\n",
              "      <th>thyroid surgery</th>\n",
              "      <th>I131 treatment</th>\n",
              "      <th>query hypothyroid</th>\n",
              "      <th>query hyperthyroid</th>\n",
              "      <th>...</th>\n",
              "      <th>tumor</th>\n",
              "      <th>hypopituitary</th>\n",
              "      <th>psych</th>\n",
              "      <th>TSH</th>\n",
              "      <th>T3</th>\n",
              "      <th>TT4</th>\n",
              "      <th>T4U</th>\n",
              "      <th>FTI</th>\n",
              "      <th>referral source</th>\n",
              "      <th>binaryClass</th>\n",
              "    </tr>\n",
              "  </thead>\n",
              "  <tbody>\n",
              "    <tr>\n",
              "      <th>0</th>\n",
              "      <td>41</td>\n",
              "      <td>0</td>\n",
              "      <td>0</td>\n",
              "      <td>0</td>\n",
              "      <td>0</td>\n",
              "      <td>0</td>\n",
              "      <td>0</td>\n",
              "      <td>0</td>\n",
              "      <td>0</td>\n",
              "      <td>0</td>\n",
              "      <td>...</td>\n",
              "      <td>0</td>\n",
              "      <td>0</td>\n",
              "      <td>0</td>\n",
              "      <td>1.30</td>\n",
              "      <td>2.5</td>\n",
              "      <td>125.0</td>\n",
              "      <td>1.14</td>\n",
              "      <td>109.0</td>\n",
              "      <td>2</td>\n",
              "      <td>1</td>\n",
              "    </tr>\n",
              "    <tr>\n",
              "      <th>4</th>\n",
              "      <td>70</td>\n",
              "      <td>0</td>\n",
              "      <td>0</td>\n",
              "      <td>0</td>\n",
              "      <td>0</td>\n",
              "      <td>0</td>\n",
              "      <td>0</td>\n",
              "      <td>0</td>\n",
              "      <td>0</td>\n",
              "      <td>0</td>\n",
              "      <td>...</td>\n",
              "      <td>0</td>\n",
              "      <td>0</td>\n",
              "      <td>0</td>\n",
              "      <td>0.72</td>\n",
              "      <td>1.2</td>\n",
              "      <td>61.0</td>\n",
              "      <td>0.87</td>\n",
              "      <td>70.0</td>\n",
              "      <td>1</td>\n",
              "      <td>1</td>\n",
              "    </tr>\n",
              "    <tr>\n",
              "      <th>7</th>\n",
              "      <td>80</td>\n",
              "      <td>0</td>\n",
              "      <td>0</td>\n",
              "      <td>0</td>\n",
              "      <td>0</td>\n",
              "      <td>0</td>\n",
              "      <td>0</td>\n",
              "      <td>0</td>\n",
              "      <td>0</td>\n",
              "      <td>0</td>\n",
              "      <td>...</td>\n",
              "      <td>0</td>\n",
              "      <td>0</td>\n",
              "      <td>0</td>\n",
              "      <td>2.20</td>\n",
              "      <td>0.6</td>\n",
              "      <td>80.0</td>\n",
              "      <td>0.70</td>\n",
              "      <td>115.0</td>\n",
              "      <td>1</td>\n",
              "      <td>1</td>\n",
              "    </tr>\n",
              "    <tr>\n",
              "      <th>8</th>\n",
              "      <td>66</td>\n",
              "      <td>0</td>\n",
              "      <td>0</td>\n",
              "      <td>0</td>\n",
              "      <td>0</td>\n",
              "      <td>0</td>\n",
              "      <td>0</td>\n",
              "      <td>0</td>\n",
              "      <td>0</td>\n",
              "      <td>0</td>\n",
              "      <td>...</td>\n",
              "      <td>1</td>\n",
              "      <td>0</td>\n",
              "      <td>0</td>\n",
              "      <td>0.60</td>\n",
              "      <td>2.2</td>\n",
              "      <td>123.0</td>\n",
              "      <td>0.93</td>\n",
              "      <td>132.0</td>\n",
              "      <td>1</td>\n",
              "      <td>1</td>\n",
              "    </tr>\n",
              "    <tr>\n",
              "      <th>9</th>\n",
              "      <td>68</td>\n",
              "      <td>1</td>\n",
              "      <td>0</td>\n",
              "      <td>0</td>\n",
              "      <td>0</td>\n",
              "      <td>0</td>\n",
              "      <td>0</td>\n",
              "      <td>0</td>\n",
              "      <td>0</td>\n",
              "      <td>0</td>\n",
              "      <td>...</td>\n",
              "      <td>0</td>\n",
              "      <td>0</td>\n",
              "      <td>0</td>\n",
              "      <td>2.40</td>\n",
              "      <td>1.6</td>\n",
              "      <td>83.0</td>\n",
              "      <td>0.89</td>\n",
              "      <td>93.0</td>\n",
              "      <td>1</td>\n",
              "      <td>1</td>\n",
              "    </tr>\n",
              "  </tbody>\n",
              "</table>\n",
              "<p>5 rows × 22 columns</p>\n",
              "</div>\n",
              "      <button class=\"colab-df-convert\" onclick=\"convertToInteractive('df-dc132935-1736-47b7-bc65-ab024ca3d23d')\"\n",
              "              title=\"Convert this dataframe to an interactive table.\"\n",
              "              style=\"display:none;\">\n",
              "        \n",
              "  <svg xmlns=\"http://www.w3.org/2000/svg\" height=\"24px\"viewBox=\"0 0 24 24\"\n",
              "       width=\"24px\">\n",
              "    <path d=\"M0 0h24v24H0V0z\" fill=\"none\"/>\n",
              "    <path d=\"M18.56 5.44l.94 2.06.94-2.06 2.06-.94-2.06-.94-.94-2.06-.94 2.06-2.06.94zm-11 1L8.5 8.5l.94-2.06 2.06-.94-2.06-.94L8.5 2.5l-.94 2.06-2.06.94zm10 10l.94 2.06.94-2.06 2.06-.94-2.06-.94-.94-2.06-.94 2.06-2.06.94z\"/><path d=\"M17.41 7.96l-1.37-1.37c-.4-.4-.92-.59-1.43-.59-.52 0-1.04.2-1.43.59L10.3 9.45l-7.72 7.72c-.78.78-.78 2.05 0 2.83L4 21.41c.39.39.9.59 1.41.59.51 0 1.02-.2 1.41-.59l7.78-7.78 2.81-2.81c.8-.78.8-2.07 0-2.86zM5.41 20L4 18.59l7.72-7.72 1.47 1.35L5.41 20z\"/>\n",
              "  </svg>\n",
              "      </button>\n",
              "      \n",
              "  <style>\n",
              "    .colab-df-container {\n",
              "      display:flex;\n",
              "      flex-wrap:wrap;\n",
              "      gap: 12px;\n",
              "    }\n",
              "\n",
              "    .colab-df-convert {\n",
              "      background-color: #E8F0FE;\n",
              "      border: none;\n",
              "      border-radius: 50%;\n",
              "      cursor: pointer;\n",
              "      display: none;\n",
              "      fill: #1967D2;\n",
              "      height: 32px;\n",
              "      padding: 0 0 0 0;\n",
              "      width: 32px;\n",
              "    }\n",
              "\n",
              "    .colab-df-convert:hover {\n",
              "      background-color: #E2EBFA;\n",
              "      box-shadow: 0px 1px 2px rgba(60, 64, 67, 0.3), 0px 1px 3px 1px rgba(60, 64, 67, 0.15);\n",
              "      fill: #174EA6;\n",
              "    }\n",
              "\n",
              "    [theme=dark] .colab-df-convert {\n",
              "      background-color: #3B4455;\n",
              "      fill: #D2E3FC;\n",
              "    }\n",
              "\n",
              "    [theme=dark] .colab-df-convert:hover {\n",
              "      background-color: #434B5C;\n",
              "      box-shadow: 0px 1px 3px 1px rgba(0, 0, 0, 0.15);\n",
              "      filter: drop-shadow(0px 1px 2px rgba(0, 0, 0, 0.3));\n",
              "      fill: #FFFFFF;\n",
              "    }\n",
              "  </style>\n",
              "\n",
              "      <script>\n",
              "        const buttonEl =\n",
              "          document.querySelector('#df-dc132935-1736-47b7-bc65-ab024ca3d23d button.colab-df-convert');\n",
              "        buttonEl.style.display =\n",
              "          google.colab.kernel.accessAllowed ? 'block' : 'none';\n",
              "\n",
              "        async function convertToInteractive(key) {\n",
              "          const element = document.querySelector('#df-dc132935-1736-47b7-bc65-ab024ca3d23d');\n",
              "          const dataTable =\n",
              "            await google.colab.kernel.invokeFunction('convertToInteractive',\n",
              "                                                     [key], {});\n",
              "          if (!dataTable) return;\n",
              "\n",
              "          const docLinkHtml = 'Like what you see? Visit the ' +\n",
              "            '<a target=\"_blank\" href=https://colab.research.google.com/notebooks/data_table.ipynb>data table notebook</a>'\n",
              "            + ' to learn more about interactive tables.';\n",
              "          element.innerHTML = '';\n",
              "          dataTable['output_type'] = 'display_data';\n",
              "          await google.colab.output.renderOutput(dataTable, element);\n",
              "          const docLink = document.createElement('div');\n",
              "          docLink.innerHTML = docLinkHtml;\n",
              "          element.appendChild(docLink);\n",
              "        }\n",
              "      </script>\n",
              "    </div>\n",
              "  </div>\n",
              "  "
            ]
          },
          "metadata": {},
          "execution_count": 500
        }
      ],
      "source": [
        "df.head()"
      ],
      "id": "3c1ae60a"
    },
    {
      "cell_type": "code",
      "execution_count": null,
      "metadata": {
        "colab": {
          "base_uri": "https://localhost:8080/"
        },
        "id": "e8d25738",
        "outputId": "2aeecea2-0afd-4e6e-fdd1-9769b607242f"
      },
      "outputs": [
        {
          "output_type": "execute_result",
          "data": {
            "text/plain": [
              "array([1, 0])"
            ]
          },
          "metadata": {},
          "execution_count": 501
        }
      ],
      "source": [
        "df['binaryClass'].unique()"
      ],
      "id": "e8d25738"
    },
    {
      "cell_type": "code",
      "execution_count": null,
      "metadata": {
        "colab": {
          "base_uri": "https://localhost:8080/"
        },
        "id": "517efb66",
        "outputId": "5220077a-0c92-4547-bdca-718f563863eb"
      },
      "outputs": [
        {
          "output_type": "execute_result",
          "data": {
            "text/plain": [
              "1    2263\n",
              "0     381\n",
              "Name: binaryClass, dtype: int64"
            ]
          },
          "metadata": {},
          "execution_count": 502
        }
      ],
      "source": [
        "df['binaryClass'].value_counts()"
      ],
      "id": "517efb66"
    },
    {
      "cell_type": "code",
      "execution_count": null,
      "metadata": {
        "colab": {
          "base_uri": "https://localhost:8080/"
        },
        "id": "2f8bb1cd",
        "outputId": "602060ad-b37d-4837-8492-3ffc5cd809d6"
      },
      "outputs": [
        {
          "output_type": "execute_result",
          "data": {
            "text/plain": [
              "age                           object\n",
              "gender                         int64\n",
              "on thyroxine                   int64\n",
              "on antithyroid medication      int64\n",
              "sick                           int64\n",
              "pregnant                       int64\n",
              "thyroid surgery                int64\n",
              "I131 treatment                 int64\n",
              "query hypothyroid              int64\n",
              "query hyperthyroid             int64\n",
              "lithium                        int64\n",
              "goitre                         int64\n",
              "tumor                          int64\n",
              "hypopituitary                  int64\n",
              "psych                          int64\n",
              "TSH                          float64\n",
              "T3                           float64\n",
              "TT4                          float64\n",
              "T4U                          float64\n",
              "FTI                          float64\n",
              "referral source                int64\n",
              "binaryClass                    int64\n",
              "dtype: object"
            ]
          },
          "metadata": {},
          "execution_count": 503
        }
      ],
      "source": [
        "df.dtypes"
      ],
      "id": "2f8bb1cd"
    },
    {
      "cell_type": "code",
      "execution_count": null,
      "metadata": {
        "colab": {
          "base_uri": "https://localhost:8080/",
          "height": 1000
        },
        "id": "6cf3a755",
        "outputId": "39094565-aad4-4824-9f15-11ef1df1954f"
      },
      "outputs": [
        {
          "output_type": "display_data",
          "data": {
            "text/plain": [
              "<Figure size 1600x1600 with 25 Axes>"
            ],
            "image/png": "[encoded data removed]"
          },
          "metadata": {}
        }
      ],
      "source": [
        "df.hist(bins = 50,figsize = (16,16))\n",
        "plt.show()"
      ],
      "id": "6cf3a755"
    },
    {
      "cell_type": "code",
      "execution_count": null,
      "metadata": {
        "id": "65f3f7fb"
      },
      "outputs": [],
      "source": [],
      "id": "65f3f7fb"
    },
    {
      "cell_type": "markdown",
      "metadata": {
        "id": "9fd625b2"
      },
      "source": [
        "# Train & Test Split"
      ],
      "id": "9fd625b2"
    },
    {
      "cell_type": "code",
      "execution_count": null,
      "metadata": {
        "id": "c91d93ca"
      },
      "outputs": [],
      "source": [
        "x = df.iloc[:,:-1]\n",
        "y = df.iloc[:,-1]\n"
      ],
      "id": "c91d93ca"
    },
    {
      "cell_type": "code",
      "execution_count": null,
      "metadata": {
        "id": "cc4798bb"
      },
      "outputs": [],
      "source": [
        "x_train,x_test,y_train,y_test = train_test_split(x,y,test_size=0.2,random_state=20)"
      ],
      "id": "cc4798bb"
    },
    {
      "cell_type": "code",
      "execution_count": null,
      "metadata": {
        "colab": {
          "base_uri": "https://localhost:8080/"
        },
        "id": "3ed8db1e",
        "outputId": "51d55c8d-77ea-44b2-df1b-c2b02758f344"
      },
      "outputs": [
        {
          "output_type": "stream",
          "name": "stdout",
          "text": [
            "(2644, 21) (2115, 21) (529, 21)\n"
          ]
        }
      ],
      "source": [
        "print(x.shape,x_train.shape,x_test.shape)"
      ],
      "id": "3ed8db1e"
    },
    {
      "cell_type": "markdown",
      "metadata": {
        "id": "GD5HdbYOy_n0"
      },
      "source": [
        "### Machine Learning Models"
      ],
      "id": "GD5HdbYOy_n0"
    },
    {
      "cell_type": "code",
      "execution_count": null,
      "metadata": {
        "id": "VOzlbPfVzPB1"
      },
      "outputs": [],
      "source": [
        "MLModel = []\n",
        "accuracy = []\n",
        "precision=[]\n",
        "\n",
        "\n",
        "#function to call for storing the results\n",
        "def storeResults(model, a,b):\n",
        "  MLModel.append(model)\n",
        "  accuracy.append(round(a, 3))\n",
        "  precision.append(round(b,3))\n",
        "  "
      ],
      "id": "VOzlbPfVzPB1"
    },
    {
      "cell_type": "markdown",
      "metadata": {
        "id": "44141ce8"
      },
      "source": [
        "# support vector machine"
      ],
      "id": "44141ce8"
    },
    {
      "cell_type": "code",
      "execution_count": null,
      "metadata": {
        "colab": {
          "base_uri": "https://localhost:8080/",
          "height": 74
        },
        "id": "c101cb3f",
        "outputId": "7afb6811-935a-4be3-9cbd-f0eedc3c04bc"
      },
      "outputs": [
        {
          "output_type": "execute_result",
          "data": {
            "text/plain": [
              "SVC()"
            ],
            "text/html": [
              "<style>#sk-container-id-19 {color: black;background-color: white;}#sk-container-id-19 pre{padding: 0;}#sk-container-id-19 div.sk-toggleable {background-color: white;}#sk-container-id-19 label.sk-toggleable__label {cursor: pointer;display: block;width: 100%;margin-bottom: 0;padding: 0.3em;box-sizing: border-box;text-align: center;}#sk-container-id-19 label.sk-toggleable__label-arrow:before {content: \"▸\";float: left;margin-right: 0.25em;color: #696969;}#sk-container-id-19 label.sk-toggleable__label-arrow:hover:before {color: black;}#sk-container-id-19 div.sk-estimator:hover label.sk-toggleable__label-arrow:before {color: black;}#sk-container-id-19 div.sk-toggleable__content {max-height: 0;max-width: 0;overflow: hidden;text-align: left;background-color: #f0f8ff;}#sk-container-id-19 div.sk-toggleable__content pre {margin: 0.2em;color: black;border-radius: 0.25em;background-color: #f0f8ff;}#sk-container-id-19 input.sk-toggleable__control:checked~div.sk-toggleable__content {max-height: 200px;max-width: 100%;overflow: auto;}#sk-container-id-19 input.sk-toggleable__control:checked~label.sk-toggleable__label-arrow:before {content: \"▾\";}#sk-container-id-19 div.sk-estimator input.sk-toggleable__control:checked~label.sk-toggleable__label {background-color: #d4ebff;}#sk-container-id-19 div.sk-label input.sk-toggleable__control:checked~label.sk-toggleable__label {background-color: #d4ebff;}#sk-container-id-19 input.sk-hidden--visually {border: 0;clip: rect(1px 1px 1px 1px);clip: rect(1px, 1px, 1px, 1px);height: 1px;margin: -1px;overflow: hidden;padding: 0;position: absolute;width: 1px;}#sk-container-id-19 div.sk-estimator {font-family: monospace;background-color: #f0f8ff;border: 1px dotted black;border-radius: 0.25em;box-sizing: border-box;margin-bottom: 0.5em;}#sk-container-id-19 div.sk-estimator:hover {background-color: #d4ebff;}#sk-container-id-19 div.sk-parallel-item::after {content: \"\";width: 100%;border-bottom: 1px solid gray;flex-grow: 1;}#sk-container-id-19 div.sk-label:hover label.sk-toggleable__label {background-color: #d4ebff;}#sk-container-id-19 div.sk-serial::before {content: \"\";position: absolute;border-left: 1px solid gray;box-sizing: border-box;top: 0;bottom: 0;left: 50%;z-index: 0;}#sk-container-id-19 div.sk-serial {display: flex;flex-direction: column;align-items: center;background-color: white;padding-right: 0.2em;padding-left: 0.2em;position: relative;}#sk-container-id-19 div.sk-item {position: relative;z-index: 1;}#sk-container-id-19 div.sk-parallel {display: flex;align-items: stretch;justify-content: center;background-color: white;position: relative;}#sk-container-id-19 div.sk-item::before, #sk-container-id-19 div.sk-parallel-item::before {content: \"\";position: absolute;border-left: 1px solid gray;box-sizing: border-box;top: 0;bottom: 0;left: 50%;z-index: -1;}#sk-container-id-19 div.sk-parallel-item {display: flex;flex-direction: column;z-index: 1;position: relative;background-color: white;}#sk-container-id-19 div.sk-parallel-item:first-child::after {align-self: flex-end;width: 50%;}#sk-container-id-19 div.sk-parallel-item:last-child::after {align-self: flex-start;width: 50%;}#sk-container-id-19 div.sk-parallel-item:only-child::after {width: 0;}#sk-container-id-19 div.sk-dashed-wrapped {border: 1px dashed gray;margin: 0 0.4em 0.5em 0.4em;box-sizing: border-box;padding-bottom: 0.4em;background-color: white;}#sk-container-id-19 div.sk-label label {font-family: monospace;font-weight: bold;display: inline-block;line-height: 1.2em;}#sk-container-id-19 div.sk-label-container {text-align: center;}#sk-container-id-19 div.sk-container {/* jupyter's `normalize.less` sets `[hidden] { display: none; }` but bootstrap.min.css set `[hidden] { display: none !important; }` so we also need the `!important` here to be able to override the default hidden behavior on the sphinx rendered scikit-learn.org. See: https://github.com/scikit-learn/scikit-learn/issues/21755 */display: inline-block !important;position: relative;}#sk-container-id-19 div.sk-text-repr-fallback {display: none;}</style><div id=\"sk-container-id-19\" class=\"sk-top-container\"><div class=\"sk-text-repr-fallback\"><pre>SVC()</pre><b>In a Jupyter environment, please rerun this cell to show the HTML representation or trust the notebook. <br />On GitHub, the HTML representation is unable to render, please try loading this page with nbviewer.org.</b></div><div class=\"sk-container\" hidden><div class=\"sk-item\"><div class=\"sk-estimator sk-toggleable\"><input class=\"sk-toggleable__control sk-hidden--visually\" id=\"sk-estimator-id-19\" type=\"checkbox\" checked><label for=\"sk-estimator-id-19\" class=\"sk-toggleable__label sk-toggleable__label-arrow\">SVC</label><div class=\"sk-toggleable__content\"><pre>SVC()</pre></div></div></div></div></div>"
            ]
          },
          "metadata": {},
          "execution_count": 509
        }
      ],
      "source": [
        "\n",
        "clf=SVC()\n",
        "\n",
        "clf.fit(x_train.values, y_train.values)\n"
      ],
      "id": "c101cb3f"
    },
    {
      "cell_type": "code",
      "execution_count": null,
      "metadata": {
        "id": "c7f840db"
      },
      "outputs": [],
      "source": [
        "y_pred_test = clf.predict(x_test.values)"
      ],
      "id": "c7f840db"
    },
    {
      "cell_type": "code",
      "execution_count": null,
      "metadata": {
        "colab": {
          "base_uri": "https://localhost:8080/",
          "height": 449
        },
        "id": "9ca85795",
        "outputId": "1d61589d-095f-4646-dba4-c31bd5272208"
      },
      "outputs": [
        {
          "output_type": "display_data",
          "data": {
            "text/plain": [
              "<Figure size 640x480 with 2 Axes>"
            ],
            "image/png": "[encoded data removed]"
          },
          "metadata": {}
        }
      ],
      "source": [
        "from sklearn import metrics\n",
        "confusion_matrix = metrics.confusion_matrix(y_test, y_pred_test)\n",
        "\n",
        "cm_display = metrics.ConfusionMatrixDisplay(confusion_matrix = confusion_matrix, display_labels = ['Negative','Positive'])\n",
        "\n",
        "cm_display.plot()\n",
        "plt.show()"
      ],
      "id": "9ca85795"
    },
    {
      "cell_type": "code",
      "execution_count": null,
      "metadata": {
        "colab": {
          "base_uri": "https://localhost:8080/"
        },
        "id": "8874b509",
        "outputId": "0a7985ff-fe54-4028-a953-d437f171a025"
      },
      "outputs": [
        {
          "output_type": "stream",
          "name": "stdout",
          "text": [
            "Accuracy score of SVM Algorithm is:  0.8657844990548205\n",
            "Precison score of SVM Algorithm is:  0.8679611650485437\n"
          ]
        }
      ],
      "source": [
        "print(\"Accuracy score of SVM Algorithm is: \",accuracy_score(y_test,y_pred_test))\n",
        "print(\"Precison score of SVM Algorithm is: \",precision_score(y_test,y_pred_test))\n",
        "storeResults(\"SVM\", accuracy_score(y_test,y_pred_test),precision_score(y_test,y_pred_test))\n"
      ],
      "id": "8874b509"
    },
    {
      "cell_type": "markdown",
      "metadata": {
        "id": "eqjFKedYYxyF"
      },
      "source": [
        "## K-Nearest Neighbor"
      ],
      "id": "eqjFKedYYxyF"
    },
    {
      "cell_type": "code",
      "execution_count": null,
      "metadata": {
        "colab": {
          "base_uri": "https://localhost:8080/",
          "height": 74
        },
        "id": "IW-hqYAXfSpu",
        "outputId": "67aa21a2-d4ad-45d7-e404-82838cd97ea8"
      },
      "outputs": [
        {
          "output_type": "execute_result",
          "data": {
            "text/plain": [
              "KNeighborsClassifier()"
            ],
            "text/html": [
              "<style>#sk-container-id-20 {color: black;background-color: white;}#sk-container-id-20 pre{padding: 0;}#sk-container-id-20 div.sk-toggleable {background-color: white;}#sk-container-id-20 label.sk-toggleable__label {cursor: pointer;display: block;width: 100%;margin-bottom: 0;padding: 0.3em;box-sizing: border-box;text-align: center;}#sk-container-id-20 label.sk-toggleable__label-arrow:before {content: \"▸\";float: left;margin-right: 0.25em;color: #696969;}#sk-container-id-20 label.sk-toggleable__label-arrow:hover:before {color: black;}#sk-container-id-20 div.sk-estimator:hover label.sk-toggleable__label-arrow:before {color: black;}#sk-container-id-20 div.sk-toggleable__content {max-height: 0;max-width: 0;overflow: hidden;text-align: left;background-color: #f0f8ff;}#sk-container-id-20 div.sk-toggleable__content pre {margin: 0.2em;color: black;border-radius: 0.25em;background-color: #f0f8ff;}#sk-container-id-20 input.sk-toggleable__control:checked~div.sk-toggleable__content {max-height: 200px;max-width: 100%;overflow: auto;}#sk-container-id-20 input.sk-toggleable__control:checked~label.sk-toggleable__label-arrow:before {content: \"▾\";}#sk-container-id-20 div.sk-estimator input.sk-toggleable__control:checked~label.sk-toggleable__label {background-color: #d4ebff;}#sk-container-id-20 div.sk-label input.sk-toggleable__control:checked~label.sk-toggleable__label {background-color: #d4ebff;}#sk-container-id-20 input.sk-hidden--visually {border: 0;clip: rect(1px 1px 1px 1px);clip: rect(1px, 1px, 1px, 1px);height: 1px;margin: -1px;overflow: hidden;padding: 0;position: absolute;width: 1px;}#sk-container-id-20 div.sk-estimator {font-family: monospace;background-color: #f0f8ff;border: 1px dotted black;border-radius: 0.25em;box-sizing: border-box;margin-bottom: 0.5em;}#sk-container-id-20 div.sk-estimator:hover {background-color: #d4ebff;}#sk-container-id-20 div.sk-parallel-item::after {content: \"\";width: 100%;border-bottom: 1px solid gray;flex-grow: 1;}#sk-container-id-20 div.sk-label:hover label.sk-toggleable__label {background-color: #d4ebff;}#sk-container-id-20 div.sk-serial::before {content: \"\";position: absolute;border-left: 1px solid gray;box-sizing: border-box;top: 0;bottom: 0;left: 50%;z-index: 0;}#sk-container-id-20 div.sk-serial {display: flex;flex-direction: column;align-items: center;background-color: white;padding-right: 0.2em;padding-left: 0.2em;position: relative;}#sk-container-id-20 div.sk-item {position: relative;z-index: 1;}#sk-container-id-20 div.sk-parallel {display: flex;align-items: stretch;justify-content: center;background-color: white;position: relative;}#sk-container-id-20 div.sk-item::before, #sk-container-id-20 div.sk-parallel-item::before {content: \"\";position: absolute;border-left: 1px solid gray;box-sizing: border-box;top: 0;bottom: 0;left: 50%;z-index: -1;}#sk-container-id-20 div.sk-parallel-item {display: flex;flex-direction: column;z-index: 1;position: relative;background-color: white;}#sk-container-id-20 div.sk-parallel-item:first-child::after {align-self: flex-end;width: 50%;}#sk-container-id-20 div.sk-parallel-item:last-child::after {align-self: flex-start;width: 50%;}#sk-container-id-20 div.sk-parallel-item:only-child::after {width: 0;}#sk-container-id-20 div.sk-dashed-wrapped {border: 1px dashed gray;margin: 0 0.4em 0.5em 0.4em;box-sizing: border-box;padding-bottom: 0.4em;background-color: white;}#sk-container-id-20 div.sk-label label {font-family: monospace;font-weight: bold;display: inline-block;line-height: 1.2em;}#sk-container-id-20 div.sk-label-container {text-align: center;}#sk-container-id-20 div.sk-container {/* jupyter's `normalize.less` sets `[hidden] { display: none; }` but bootstrap.min.css set `[hidden] { display: none !important; }` so we also need the `!important` here to be able to override the default hidden behavior on the sphinx rendered scikit-learn.org. See: https://github.com/scikit-learn/scikit-learn/issues/21755 */display: inline-block !important;position: relative;}#sk-container-id-20 div.sk-text-repr-fallback {display: none;}</style><div id=\"sk-container-id-20\" class=\"sk-top-container\"><div class=\"sk-text-repr-fallback\"><pre>KNeighborsClassifier()</pre><b>In a Jupyter environment, please rerun this cell to show the HTML representation or trust the notebook. <br />On GitHub, the HTML representation is unable to render, please try loading this page with nbviewer.org.</b></div><div class=\"sk-container\" hidden><div class=\"sk-item\"><div class=\"sk-estimator sk-toggleable\"><input class=\"sk-toggleable__control sk-hidden--visually\" id=\"sk-estimator-id-20\" type=\"checkbox\" checked><label for=\"sk-estimator-id-20\" class=\"sk-toggleable__label sk-toggleable__label-arrow\">KNeighborsClassifier</label><div class=\"sk-toggleable__content\"><pre>KNeighborsClassifier()</pre></div></div></div></div></div>"
            ]
          },
          "metadata": {},
          "execution_count": 513
        }
      ],
      "source": [
        "\n",
        "knn = KNeighborsClassifier()\n",
        "knn.fit(x_train.values, y_train.values)"
      ],
      "id": "IW-hqYAXfSpu"
    },
    {
      "cell_type": "code",
      "execution_count": null,
      "metadata": {
        "id": "7lk0oxOLfTsM"
      },
      "outputs": [],
      "source": [
        "y_pred_test = knn.predict(x_test.values)"
      ],
      "id": "7lk0oxOLfTsM"
    },
    {
      "cell_type": "code",
      "execution_count": null,
      "metadata": {
        "colab": {
          "base_uri": "https://localhost:8080/",
          "height": 449
        },
        "id": "165R1ARufWGZ",
        "outputId": "c582cd38-5ed5-4bda-d677-b8e4916fea67"
      },
      "outputs": [
        {
          "output_type": "display_data",
          "data": {
            "text/plain": [
              "<Figure size 640x480 with 2 Axes>"
            ],
            "image/png": "[encoded data removed]"
          },
          "metadata": {}
        }
      ],
      "source": [
        "from sklearn import metrics\n",
        "confusion_matrix = metrics.confusion_matrix(y_test, y_pred_test)\n",
        "\n",
        "cm_display = metrics.ConfusionMatrixDisplay(confusion_matrix = confusion_matrix, display_labels = ['Negative','Positive'])\n",
        "\n",
        "cm_display.plot()\n",
        "plt.show()"
      ],
      "id": "165R1ARufWGZ"
    },
    {
      "cell_type": "code",
      "execution_count": null,
      "metadata": {
        "colab": {
          "base_uri": "https://localhost:8080/"
        },
        "id": "QHpGMzqhfZ8e",
        "outputId": "24b533a8-0673-49ee-cf8f-b54b0ba80cec"
      },
      "outputs": [
        {
          "output_type": "stream",
          "name": "stdout",
          "text": [
            "Accuracy score of KNN Algorithm is:  0.8790170132325141\n",
            "Precison score of KNN Algorithm is:  0.8875502008032129\n"
          ]
        }
      ],
      "source": [
        "\n",
        "print(\"Accuracy score of KNN Algorithm is: \",accuracy_score(y_test,y_pred_test))\n",
        "print(\"Precison score of KNN Algorithm is: \",precision_score(y_test,y_pred_test))\n",
        "\n",
        "storeResults(\"KNN\", accuracy_score(y_test,y_pred_test),precision_score(y_test,y_pred_test))"
      ],
      "id": "QHpGMzqhfZ8e"
    },
    {
      "cell_type": "markdown",
      "metadata": {
        "id": "1cee494b"
      },
      "source": [
        "# Random forest"
      ],
      "id": "1cee494b"
    },
    {
      "cell_type": "code",
      "execution_count": null,
      "metadata": {
        "colab": {
          "base_uri": "https://localhost:8080/",
          "height": 74
        },
        "id": "a49e3bb0",
        "outputId": "986f2f78-b888-44c7-8c29-47a7caa562c9"
      },
      "outputs": [
        {
          "output_type": "execute_result",
          "data": {
            "text/plain": [
              "RandomForestClassifier(n_estimators=40)"
            ],
            "text/html": [
              "<style>#sk-container-id-21 {color: black;background-color: white;}#sk-container-id-21 pre{padding: 0;}#sk-container-id-21 div.sk-toggleable {background-color: white;}#sk-container-id-21 label.sk-toggleable__label {cursor: pointer;display: block;width: 100%;margin-bottom: 0;padding: 0.3em;box-sizing: border-box;text-align: center;}#sk-container-id-21 label.sk-toggleable__label-arrow:before {content: \"▸\";float: left;margin-right: 0.25em;color: #696969;}#sk-container-id-21 label.sk-toggleable__label-arrow:hover:before {color: black;}#sk-container-id-21 div.sk-estimator:hover label.sk-toggleable__label-arrow:before {color: black;}#sk-container-id-21 div.sk-toggleable__content {max-height: 0;max-width: 0;overflow: hidden;text-align: left;background-color: #f0f8ff;}#sk-container-id-21 div.sk-toggleable__content pre {margin: 0.2em;color: black;border-radius: 0.25em;background-color: #f0f8ff;}#sk-container-id-21 input.sk-toggleable__control:checked~div.sk-toggleable__content {max-height: 200px;max-width: 100%;overflow: auto;}#sk-container-id-21 input.sk-toggleable__control:checked~label.sk-toggleable__label-arrow:before {content: \"▾\";}#sk-container-id-21 div.sk-estimator input.sk-toggleable__control:checked~label.sk-toggleable__label {background-color: #d4ebff;}#sk-container-id-21 div.sk-label input.sk-toggleable__control:checked~label.sk-toggleable__label {background-color: #d4ebff;}#sk-container-id-21 input.sk-hidden--visually {border: 0;clip: rect(1px 1px 1px 1px);clip: rect(1px, 1px, 1px, 1px);height: 1px;margin: -1px;overflow: hidden;padding: 0;position: absolute;width: 1px;}#sk-container-id-21 div.sk-estimator {font-family: monospace;background-color: #f0f8ff;border: 1px dotted black;border-radius: 0.25em;box-sizing: border-box;margin-bottom: 0.5em;}#sk-container-id-21 div.sk-estimator:hover {background-color: #d4ebff;}#sk-container-id-21 div.sk-parallel-item::after {content: \"\";width: 100%;border-bottom: 1px solid gray;flex-grow: 1;}#sk-container-id-21 div.sk-label:hover label.sk-toggleable__label {background-color: #d4ebff;}#sk-container-id-21 div.sk-serial::before {content: \"\";position: absolute;border-left: 1px solid gray;box-sizing: border-box;top: 0;bottom: 0;left: 50%;z-index: 0;}#sk-container-id-21 div.sk-serial {display: flex;flex-direction: column;align-items: center;background-color: white;padding-right: 0.2em;padding-left: 0.2em;position: relative;}#sk-container-id-21 div.sk-item {position: relative;z-index: 1;}#sk-container-id-21 div.sk-parallel {display: flex;align-items: stretch;justify-content: center;background-color: white;position: relative;}#sk-container-id-21 div.sk-item::before, #sk-container-id-21 div.sk-parallel-item::before {content: \"\";position: absolute;border-left: 1px solid gray;box-sizing: border-box;top: 0;bottom: 0;left: 50%;z-index: -1;}#sk-container-id-21 div.sk-parallel-item {display: flex;flex-direction: column;z-index: 1;position: relative;background-color: white;}#sk-container-id-21 div.sk-parallel-item:first-child::after {align-self: flex-end;width: 50%;}#sk-container-id-21 div.sk-parallel-item:last-child::after {align-self: flex-start;width: 50%;}#sk-container-id-21 div.sk-parallel-item:only-child::after {width: 0;}#sk-container-id-21 div.sk-dashed-wrapped {border: 1px dashed gray;margin: 0 0.4em 0.5em 0.4em;box-sizing: border-box;padding-bottom: 0.4em;background-color: white;}#sk-container-id-21 div.sk-label label {font-family: monospace;font-weight: bold;display: inline-block;line-height: 1.2em;}#sk-container-id-21 div.sk-label-container {text-align: center;}#sk-container-id-21 div.sk-container {/* jupyter's `normalize.less` sets `[hidden] { display: none; }` but bootstrap.min.css set `[hidden] { display: none !important; }` so we also need the `!important` here to be able to override the default hidden behavior on the sphinx rendered scikit-learn.org. See: https://github.com/scikit-learn/scikit-learn/issues/21755 */display: inline-block !important;position: relative;}#sk-container-id-21 div.sk-text-repr-fallback {display: none;}</style><div id=\"sk-container-id-21\" class=\"sk-top-container\"><div class=\"sk-text-repr-fallback\"><pre>RandomForestClassifier(n_estimators=40)</pre><b>In a Jupyter environment, please rerun this cell to show the HTML representation or trust the notebook. <br />On GitHub, the HTML representation is unable to render, please try loading this page with nbviewer.org.</b></div><div class=\"sk-container\" hidden><div class=\"sk-item\"><div class=\"sk-estimator sk-toggleable\"><input class=\"sk-toggleable__control sk-hidden--visually\" id=\"sk-estimator-id-21\" type=\"checkbox\" checked><label for=\"sk-estimator-id-21\" class=\"sk-toggleable__label sk-toggleable__label-arrow\">RandomForestClassifier</label><div class=\"sk-toggleable__content\"><pre>RandomForestClassifier(n_estimators=40)</pre></div></div></div></div></div>"
            ]
          },
          "metadata": {},
          "execution_count": 517
        }
      ],
      "source": [
        "\n",
        "model = RandomForestClassifier(n_estimators=40)\n",
        "model.fit(x_train.values, y_train.values)"
      ],
      "id": "a49e3bb0"
    },
    {
      "cell_type": "code",
      "execution_count": null,
      "metadata": {
        "id": "df6b6f6c"
      },
      "outputs": [],
      "source": [
        "y_pred_test = model.predict(x_test.values)"
      ],
      "id": "df6b6f6c"
    },
    {
      "cell_type": "code",
      "execution_count": null,
      "metadata": {
        "colab": {
          "base_uri": "https://localhost:8080/",
          "height": 619
        },
        "id": "4ea63606",
        "outputId": "20517c5b-62d9-4d13-e02a-90662ded6a16"
      },
      "outputs": [
        {
          "output_type": "display_data",
          "data": {
            "text/plain": [
              "<Figure size 900x700 with 1 Axes>"
            ],
            "image/png": "[encoded data removed]"
          },
          "metadata": {}
        }
      ],
      "source": [
        "plt.figure(figsize=(9,7))\n",
        "n_features = x_train.shape[1]\n",
        "plt.barh(range(n_features), model.feature_importances_, align='center',color='g')\n",
        "plt.yticks(np.arange(n_features), x_train.columns)\n",
        "plt.xlabel(\"Feature importance\")\n",
        "plt.ylabel(\"Feature\")\n",
        "plt.show()"
      ],
      "id": "4ea63606"
    },
    {
      "cell_type": "code",
      "execution_count": null,
      "metadata": {
        "colab": {
          "base_uri": "https://localhost:8080/",
          "height": 449
        },
        "id": "af3bb9d9",
        "outputId": "b5b6692a-9571-40bc-cecb-64ef763e4056"
      },
      "outputs": [
        {
          "output_type": "display_data",
          "data": {
            "text/plain": [
              "<Figure size 640x480 with 2 Axes>"
            ],
            "image/png": "[encoded data removed]"
          },
          "metadata": {}
        }
      ],
      "source": [
        "from sklearn import metrics\n",
        "confusion_matrix = metrics.confusion_matrix(y_test, y_pred_test)\n",
        "\n",
        "cm_display = metrics.ConfusionMatrixDisplay(confusion_matrix = confusion_matrix, display_labels = ['Negative','Positive'])\n",
        "\n",
        "cm_display.plot()\n",
        "plt.show()"
      ],
      "id": "af3bb9d9"
    },
    {
      "cell_type": "code",
      "execution_count": null,
      "metadata": {
        "colab": {
          "base_uri": "https://localhost:8080/"
        },
        "id": "91682836",
        "outputId": "72e8c3c9-4c40-44e3-ce8b-43025c09c7e9"
      },
      "outputs": [
        {
          "output_type": "stream",
          "name": "stdout",
          "text": [
            "Accuracy score of Random Forest Algorithm is:  0.9206049149338374\n",
            "Precison score of Random Forest Algorithm is:  0.925\n"
          ]
        }
      ],
      "source": [
        "\n",
        "print(\"Accuracy score of Random Forest Algorithm is: \",accuracy_score(y_test,y_pred_test))\n",
        "print(\"Precison score of Random Forest Algorithm is: \",precision_score(y_test,y_pred_test))\n",
        "storeResults(\"Random Forest\", accuracy_score(y_test,y_pred_test),precision_score(y_test,y_pred_test))\n"
      ],
      "id": "91682836"
    },
    {
      "cell_type": "code",
      "execution_count": null,
      "metadata": {
        "id": "2fc3dd5a"
      },
      "outputs": [],
      "source": [
        "import pickle\n",
        "\n"
      ],
      "id": "2fc3dd5a"
    },
    {
      "cell_type": "code",
      "execution_count": null,
      "metadata": {
        "id": "cd70c0f2"
      },
      "outputs": [],
      "source": [
        "filename='trained_model.sav'\n",
        "pickle.dump(model,open(filename, 'wb'))"
      ],
      "id": "cd70c0f2"
    },
    {
      "cell_type": "code",
      "execution_count": null,
      "metadata": {
        "id": "00a5103f"
      },
      "outputs": [],
      "source": [
        "loaded_model=pickle.load(open('trained_model.sav', 'rb'))\n"
      ],
      "id": "00a5103f"
    },
    {
      "cell_type": "markdown",
      "metadata": {
        "id": "1525c828"
      },
      "source": [
        "# predictive model"
      ],
      "id": "1525c828"
    },
    {
      "cell_type": "code",
      "execution_count": null,
      "metadata": {
        "colab": {
          "base_uri": "https://localhost:8080/"
        },
        "id": "_Up8F2J07fIG",
        "outputId": "3f6fbc15-6960-4d8e-f045-d15ca58e7447"
      },
      "outputs": [
        {
          "output_type": "stream",
          "name": "stdout",
          "text": [
            "[1]\n",
            "The Person has Thyroid Disease\n"
          ]
        }
      ],
      "source": [
        "def predict(input_data):\n",
        "    kr=np.asarray(input_data)\n",
        "    input_data_reshaped = kr.reshape(1,-1)\n",
        "    prediction = loaded_model.predict(input_data_reshaped)\n",
        "    return prediction\n",
        "\n",
        "\n",
        "input_data=(41,0,0,0,0,0,0,0,0,0,0,0,0,0,0,1.3,2.5,125,1.14,109,1)\n",
        "prediction=predict(input_data)\n",
        "print(prediction)\n",
        "if (prediction == 0):\n",
        "  print('The Person does not have a Thyroid Disease')\n",
        "else:\n",
        "  print('The Person has Thyroid Disease')"
      ],
      "id": "_Up8F2J07fIG"
    },
    {
      "cell_type": "code",
      "execution_count": null,
      "metadata": {
        "id": "Vef6-Ztr8L5c"
      },
      "outputs": [],
      "source": [],
      "id": "Vef6-Ztr8L5c"
    },
    {
      "cell_type": "markdown",
      "metadata": {
        "id": "MiU5iT5z0Hik"
      },
      "source": [
        "Comparision Of Algorithms"
      ],
      "id": "MiU5iT5z0Hik"
    },
    {
      "cell_type": "code",
      "execution_count": null,
      "metadata": {
        "colab": {
          "base_uri": "https://localhost:8080/",
          "height": 143
        },
        "id": "_3brbYfv0OF1",
        "outputId": "5d634dca-1bc8-4ecf-a7a2-0eaed937a844"
      },
      "outputs": [
        {
          "output_type": "execute_result",
          "data": {
            "text/plain": [
              "         MLModel  AccuracyScore  PrecisionScore\n",
              "0            SVM          0.866           0.868\n",
              "1            KNN          0.879           0.888\n",
              "2  Random Forest          0.921           0.925"
            ],
            "text/html": [
              "\n",
              "  <div id=\"df-083dd9f3-23b2-411e-9918-3d1c705cc976\">\n",
              "    <div class=\"colab-df-container\">\n",
              "      <div>\n",
              "<style scoped>\n",
              "    .dataframe tbody tr th:only-of-type {\n",
              "        vertical-align: middle;\n",
              "    }\n",
              "\n",
              "    .dataframe tbody tr th {\n",
              "        vertical-align: top;\n",
              "    }\n",
              "\n",
              "    .dataframe thead th {\n",
              "        text-align: right;\n",
              "    }\n",
              "</style>\n",
              "<table border=\"1\" class=\"dataframe\">\n",
              "  <thead>\n",
              "    <tr style=\"text-align: right;\">\n",
              "      <th></th>\n",
              "      <th>MLModel</th>\n",
              "      <th>AccuracyScore</th>\n",
              "      <th>PrecisionScore</th>\n",
              "    </tr>\n",
              "  </thead>\n",
              "  <tbody>\n",
              "    <tr>\n",
              "      <th>0</th>\n",
              "      <td>SVM</td>\n",
              "      <td>0.866</td>\n",
              "      <td>0.868</td>\n",
              "    </tr>\n",
              "    <tr>\n",
              "      <th>1</th>\n",
              "      <td>KNN</td>\n",
              "      <td>0.879</td>\n",
              "      <td>0.888</td>\n",
              "    </tr>\n",
              "    <tr>\n",
              "      <th>2</th>\n",
              "      <td>Random Forest</td>\n",
              "      <td>0.921</td>\n",
              "      <td>0.925</td>\n",
              "    </tr>\n",
              "  </tbody>\n",
              "</table>\n",
              "</div>\n",
              "      <button class=\"colab-df-convert\" onclick=\"convertToInteractive('df-083dd9f3-23b2-411e-9918-3d1c705cc976')\"\n",
              "              title=\"Convert this dataframe to an interactive table.\"\n",
              "              style=\"display:none;\">\n",
              "        \n",
              "  <svg xmlns=\"http://www.w3.org/2000/svg\" height=\"24px\"viewBox=\"0 0 24 24\"\n",
              "       width=\"24px\">\n",
              "    <path d=\"M0 0h24v24H0V0z\" fill=\"none\"/>\n",
              "    <path d=\"M18.56 5.44l.94 2.06.94-2.06 2.06-.94-2.06-.94-.94-2.06-.94 2.06-2.06.94zm-11 1L8.5 8.5l.94-2.06 2.06-.94-2.06-.94L8.5 2.5l-.94 2.06-2.06.94zm10 10l.94 2.06.94-2.06 2.06-.94-2.06-.94-.94-2.06-.94 2.06-2.06.94z\"/><path d=\"M17.41 7.96l-1.37-1.37c-.4-.4-.92-.59-1.43-.59-.52 0-1.04.2-1.43.59L10.3 9.45l-7.72 7.72c-.78.78-.78 2.05 0 2.83L4 21.41c.39.39.9.59 1.41.59.51 0 1.02-.2 1.41-.59l7.78-7.78 2.81-2.81c.8-.78.8-2.07 0-2.86zM5.41 20L4 18.59l7.72-7.72 1.47 1.35L5.41 20z\"/>\n",
              "  </svg>\n",
              "      </button>\n",
              "      \n",
              "  <style>\n",
              "    .colab-df-container {\n",
              "      display:flex;\n",
              "      flex-wrap:wrap;\n",
              "      gap: 12px;\n",
              "    }\n",
              "\n",
              "    .colab-df-convert {\n",
              "      background-color: #E8F0FE;\n",
              "      border: none;\n",
              "      border-radius: 50%;\n",
              "      cursor: pointer;\n",
              "      display: none;\n",
              "      fill: #1967D2;\n",
              "      height: 32px;\n",
              "      padding: 0 0 0 0;\n",
              "      width: 32px;\n",
              "    }\n",
              "\n",
              "    .colab-df-convert:hover {\n",
              "      background-color: #E2EBFA;\n",
              "      box-shadow: 0px 1px 2px rgba(60, 64, 67, 0.3), 0px 1px 3px 1px rgba(60, 64, 67, 0.15);\n",
              "      fill: #174EA6;\n",
              "    }\n",
              "\n",
              "    [theme=dark] .colab-df-convert {\n",
              "      background-color: #3B4455;\n",
              "      fill: #D2E3FC;\n",
              "    }\n",
              "\n",
              "    [theme=dark] .colab-df-convert:hover {\n",
              "      background-color: #434B5C;\n",
              "      box-shadow: 0px 1px 3px 1px rgba(0, 0, 0, 0.15);\n",
              "      filter: drop-shadow(0px 1px 2px rgba(0, 0, 0, 0.3));\n",
              "      fill: #FFFFFF;\n",
              "    }\n",
              "  </style>\n",
              "\n",
              "      <script>\n",
              "        const buttonEl =\n",
              "          document.querySelector('#df-083dd9f3-23b2-411e-9918-3d1c705cc976 button.colab-df-convert');\n",
              "        buttonEl.style.display =\n",
              "          google.colab.kernel.accessAllowed ? 'block' : 'none';\n",
              "\n",
              "        async function convertToInteractive(key) {\n",
              "          const element = document.querySelector('#df-083dd9f3-23b2-411e-9918-3d1c705cc976');\n",
              "          const dataTable =\n",
              "            await google.colab.kernel.invokeFunction('convertToInteractive',\n",
              "                                                     [key], {});\n",
              "          if (!dataTable) return;\n",
              "\n",
              "          const docLinkHtml = 'Like what you see? Visit the ' +\n",
              "            '<a target=\"_blank\" href=https://colab.research.google.com/notebooks/data_table.ipynb>data table notebook</a>'\n",
              "            + ' to learn more about interactive tables.';\n",
              "          element.innerHTML = '';\n",
              "          dataTable['output_type'] = 'display_data';\n",
              "          await google.colab.output.renderOutput(dataTable, element);\n",
              "          const docLink = document.createElement('div');\n",
              "          docLink.innerHTML = docLinkHtml;\n",
              "          element.appendChild(docLink);\n",
              "        }\n",
              "      </script>\n",
              "    </div>\n",
              "  </div>\n",
              "  "
            ]
          },
          "metadata": {},
          "execution_count": 526
        }
      ],
      "source": [
        "results = pd.DataFrame({ 'MLModel': MLModel,    \n",
        "                         'AccuracyScore': accuracy,\n",
        "                        'PrecisionScore': precision})\n",
        "results"
      ],
      "id": "_3brbYfv0OF1"
    },
    {
      "cell_type": "code",
      "execution_count": null,
      "metadata": {
        "colab": {
          "base_uri": "https://localhost:8080/",
          "height": 490
        },
        "id": "yQa_pj6Y0pit",
        "outputId": "a901c608-3e3a-4307-d326-698ee5815495"
      },
      "outputs": [
        {
          "output_type": "execute_result",
          "data": {
            "text/plain": [
              "Text(0, 0.5, 'Score')"
            ]
          },
          "metadata": {},
          "execution_count": 527
        },
        {
          "output_type": "display_data",
          "data": {
            "text/plain": [
              "<Figure size 640x480 with 1 Axes>"
            ],
            "image/png": "[encoded data removed]"
          },
          "metadata": {}
        }
      ],
      "source": [
        "import pandas as pd\n",
        "import numpy as np\n",
        "import matplotlib.pyplot as plt\n",
        "%matplotlib inline\n",
        "from matplotlib import style\n",
        "fb=(results[\"AccuracyScore\"])\n",
        "yt=(results[\"PrecisionScore\"])\n",
        "xp=(results[\"MLModel\"])\n",
        "\n",
        "bandwidth=0.2\n",
        "xpls=np.arange(len(fb))\n",
        "plt.bar(xp,fb,color=\"blue\",width=bandwidth,label=\"Accuracy Score\")\n",
        "plt.bar(xpls+0.2,yt,color=\"red\",width=bandwidth,label=\"Precision Score\")\n",
        "plt.legend()\n",
        "plt.xlabel(\"Models\")\n",
        "plt.title(\"Model comparision\")\n",
        "plt.ylabel(\"Score\")"
      ],
      "id": "yQa_pj6Y0pit"
    },
    {
      "cell_type": "code",
      "execution_count": null,
      "metadata": {
        "id": "mh_64ig68p_y"
      },
      "outputs": [],
      "source": [],
      "id": "mh_64ig68p_y"
    }
  ],
  "metadata": {
    "colab": {
      "provenance": []
    },
    "kernelspec": {
      "display_name": "Python 3 (ipykernel)",
      "language": "python",
      "name": "python3"
    },
    "language_info": {
      "codemirror_mode": {
        "name": "ipython",
        "version": 3
      },
      "file_extension": ".py",
      "mimetype": "text/x-python",
      "name": "python",
      "nbconvert_exporter": "python",
      "pygments_lexer": "ipython3",
      "version": "3.10.2"
    }
  },
  "nbformat": 4,
  "nbformat_minor": 5
}